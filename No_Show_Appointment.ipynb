{
 "cells": [
  {
   "cell_type": "markdown",
   "id": "543b6b96",
   "metadata": {},
   "source": [
    "# Project: Investigate a Dataset (No show Appointment!)\n",
    "\n",
    "## Table of Contents\n",
    "<ul>\n",
    "<li><a href=\"#intro\">Introduction</a></li>\n",
    "<li><a href=\"#description\">Data Description</a></li>\n",
    "<li><a href=\"#goal\">Question</a></li>\n",
    "<li><a href=\"#wrangling\">Data Wrangling</a></li>\n",
    "<li><a href=\"#eda\">Exploratory Data Analysis</a></li>\n",
    "<li><a href=\"#conclusions\">Conclusions</a></li>\n",
    "</ul>"
   ]
  },
  {
   "cell_type": "markdown",
   "id": "451b78cf",
   "metadata": {},
   "source": [
    "<a id='intro'></a>\n",
    "## Introduction\n",
    "The dataset contains the details of 110,527 medical appointment with 14 associated variable and this project is aimed is identifying reasons why people missed appointment. "
   ]
  },
  {
   "cell_type": "markdown",
   "id": "993d263d",
   "metadata": {},
   "source": [
    "<a id='description'></a>\n",
    "### Data Description\n",
    "1. PatientId - A unique identification number for each patient\n",
    "2. AppoinmentID - A unique identification for each apointment\n",
    "3. Gender - Representing the gender of the patient as either Male or Female\n",
    "4. ScheduledDay - The date and time for the appointment\n",
    "5. AppointmentDay - This is date and time the appointment was registered for.\n",
    "6. Age - The Age of the patient\n",
    "7. Neighbourhood - The location of appointment.\n",
    "8. Scholarship - This show the scholarship status of patient as 1 or 0 \n",
    "9. Hipertension - The hypertension status of patient as 1 or 0\n",
    "10. Diabetes - This show whether the patient is diabetic or not as 1 or 0 respectively\n",
    "11. Alcoholism -This show whether the patient is an alcoholic or not as 1 or 0 respectively\n",
    "12. Handcap - Show the handicap status in terms of the joint as 0,1,2 and 3+\n",
    "13. SMS_received - This states whether received a reminder or not.\n",
    "14. No-show - This states whether the patient missed the appointment. Where Yes means the patient missed appointment while No means the patient did not miss the appointment."
   ]
  },
  {
   "cell_type": "markdown",
   "id": "8d1fe129",
   "metadata": {},
   "source": [
    "<a id='goal'></a>\n",
    "### This analysis is aimed at answering the following questions\n",
    "1. What are the factors that contributes to patients missing appointment?\n",
    "2. What are the factors that affect the scholarship status of patient?"
   ]
  },
  {
   "cell_type": "code",
   "execution_count": null,
   "id": "ceb17525",
   "metadata": {},
   "outputs": [],
   "source": []
  },
  {
   "cell_type": "markdown",
   "id": "b85ab637",
   "metadata": {},
   "source": [
    "<a id='wrangling'></a>\n",
    "### Importing Library and Loading Data"
   ]
  },
  {
   "cell_type": "code",
   "execution_count": 1,
   "id": "ba6cb7bc",
   "metadata": {},
   "outputs": [],
   "source": [
    "import pandas as pd\n",
    "import numpy as np\n",
    "import matplotlib.pyplot as plt\n",
    "import seaborn as sns"
   ]
  },
  {
   "cell_type": "code",
   "execution_count": 26,
   "id": "b647ce80",
   "metadata": {},
   "outputs": [],
   "source": [
    "df = pd.read_csv('noshowappointments-kagglev2-may-2016.csv')"
   ]
  },
  {
   "cell_type": "code",
   "execution_count": 27,
   "id": "286f06b3",
   "metadata": {},
   "outputs": [
    {
     "data": {
      "text/html": [
       "<div>\n",
       "<style scoped>\n",
       "    .dataframe tbody tr th:only-of-type {\n",
       "        vertical-align: middle;\n",
       "    }\n",
       "\n",
       "    .dataframe tbody tr th {\n",
       "        vertical-align: top;\n",
       "    }\n",
       "\n",
       "    .dataframe thead th {\n",
       "        text-align: right;\n",
       "    }\n",
       "</style>\n",
       "<table border=\"1\" class=\"dataframe\">\n",
       "  <thead>\n",
       "    <tr style=\"text-align: right;\">\n",
       "      <th></th>\n",
       "      <th>PatientId</th>\n",
       "      <th>AppointmentID</th>\n",
       "      <th>Gender</th>\n",
       "      <th>ScheduledDay</th>\n",
       "      <th>AppointmentDay</th>\n",
       "      <th>Age</th>\n",
       "      <th>Neighbourhood</th>\n",
       "      <th>Scholarship</th>\n",
       "      <th>Hipertension</th>\n",
       "      <th>Diabetes</th>\n",
       "      <th>Alcoholism</th>\n",
       "      <th>Handcap</th>\n",
       "      <th>SMS_received</th>\n",
       "      <th>No-show</th>\n",
       "    </tr>\n",
       "  </thead>\n",
       "  <tbody>\n",
       "    <tr>\n",
       "      <th>0</th>\n",
       "      <td>2.987250e+13</td>\n",
       "      <td>5642903</td>\n",
       "      <td>F</td>\n",
       "      <td>2016-04-29T18:38:08Z</td>\n",
       "      <td>2016-04-29T00:00:00Z</td>\n",
       "      <td>62</td>\n",
       "      <td>JARDIM DA PENHA</td>\n",
       "      <td>0</td>\n",
       "      <td>1</td>\n",
       "      <td>0</td>\n",
       "      <td>0</td>\n",
       "      <td>0</td>\n",
       "      <td>0</td>\n",
       "      <td>No</td>\n",
       "    </tr>\n",
       "    <tr>\n",
       "      <th>1</th>\n",
       "      <td>5.589978e+14</td>\n",
       "      <td>5642503</td>\n",
       "      <td>M</td>\n",
       "      <td>2016-04-29T16:08:27Z</td>\n",
       "      <td>2016-04-29T00:00:00Z</td>\n",
       "      <td>56</td>\n",
       "      <td>JARDIM DA PENHA</td>\n",
       "      <td>0</td>\n",
       "      <td>0</td>\n",
       "      <td>0</td>\n",
       "      <td>0</td>\n",
       "      <td>0</td>\n",
       "      <td>0</td>\n",
       "      <td>No</td>\n",
       "    </tr>\n",
       "    <tr>\n",
       "      <th>2</th>\n",
       "      <td>4.262962e+12</td>\n",
       "      <td>5642549</td>\n",
       "      <td>F</td>\n",
       "      <td>2016-04-29T16:19:04Z</td>\n",
       "      <td>2016-04-29T00:00:00Z</td>\n",
       "      <td>62</td>\n",
       "      <td>MATA DA PRAIA</td>\n",
       "      <td>0</td>\n",
       "      <td>0</td>\n",
       "      <td>0</td>\n",
       "      <td>0</td>\n",
       "      <td>0</td>\n",
       "      <td>0</td>\n",
       "      <td>No</td>\n",
       "    </tr>\n",
       "    <tr>\n",
       "      <th>3</th>\n",
       "      <td>8.679512e+11</td>\n",
       "      <td>5642828</td>\n",
       "      <td>F</td>\n",
       "      <td>2016-04-29T17:29:31Z</td>\n",
       "      <td>2016-04-29T00:00:00Z</td>\n",
       "      <td>8</td>\n",
       "      <td>PONTAL DE CAMBURI</td>\n",
       "      <td>0</td>\n",
       "      <td>0</td>\n",
       "      <td>0</td>\n",
       "      <td>0</td>\n",
       "      <td>0</td>\n",
       "      <td>0</td>\n",
       "      <td>No</td>\n",
       "    </tr>\n",
       "    <tr>\n",
       "      <th>4</th>\n",
       "      <td>8.841186e+12</td>\n",
       "      <td>5642494</td>\n",
       "      <td>F</td>\n",
       "      <td>2016-04-29T16:07:23Z</td>\n",
       "      <td>2016-04-29T00:00:00Z</td>\n",
       "      <td>56</td>\n",
       "      <td>JARDIM DA PENHA</td>\n",
       "      <td>0</td>\n",
       "      <td>1</td>\n",
       "      <td>1</td>\n",
       "      <td>0</td>\n",
       "      <td>0</td>\n",
       "      <td>0</td>\n",
       "      <td>No</td>\n",
       "    </tr>\n",
       "  </tbody>\n",
       "</table>\n",
       "</div>"
      ],
      "text/plain": [
       "      PatientId  AppointmentID Gender          ScheduledDay  \\\n",
       "0  2.987250e+13        5642903      F  2016-04-29T18:38:08Z   \n",
       "1  5.589978e+14        5642503      M  2016-04-29T16:08:27Z   \n",
       "2  4.262962e+12        5642549      F  2016-04-29T16:19:04Z   \n",
       "3  8.679512e+11        5642828      F  2016-04-29T17:29:31Z   \n",
       "4  8.841186e+12        5642494      F  2016-04-29T16:07:23Z   \n",
       "\n",
       "         AppointmentDay  Age      Neighbourhood  Scholarship  Hipertension  \\\n",
       "0  2016-04-29T00:00:00Z   62    JARDIM DA PENHA            0             1   \n",
       "1  2016-04-29T00:00:00Z   56    JARDIM DA PENHA            0             0   \n",
       "2  2016-04-29T00:00:00Z   62      MATA DA PRAIA            0             0   \n",
       "3  2016-04-29T00:00:00Z    8  PONTAL DE CAMBURI            0             0   \n",
       "4  2016-04-29T00:00:00Z   56    JARDIM DA PENHA            0             1   \n",
       "\n",
       "   Diabetes  Alcoholism  Handcap  SMS_received No-show  \n",
       "0         0           0        0             0      No  \n",
       "1         0           0        0             0      No  \n",
       "2         0           0        0             0      No  \n",
       "3         0           0        0             0      No  \n",
       "4         1           0        0             0      No  "
      ]
     },
     "execution_count": 27,
     "metadata": {},
     "output_type": "execute_result"
    }
   ],
   "source": [
    "df.head() #To print the first five rows in the data"
   ]
  },
  {
   "cell_type": "code",
   "execution_count": 28,
   "id": "accee5f7",
   "metadata": {},
   "outputs": [
    {
     "data": {
      "text/plain": [
       "(110527, 14)"
      ]
     },
     "execution_count": 28,
     "metadata": {},
     "output_type": "execute_result"
    }
   ],
   "source": [
    "df.shape # To get the dimensions of the data"
   ]
  },
  {
   "cell_type": "code",
   "execution_count": 29,
   "id": "9f93cd43",
   "metadata": {},
   "outputs": [
    {
     "name": "stdout",
     "output_type": "stream",
     "text": [
      "<class 'pandas.core.frame.DataFrame'>\n",
      "RangeIndex: 110527 entries, 0 to 110526\n",
      "Data columns (total 14 columns):\n",
      " #   Column          Non-Null Count   Dtype  \n",
      "---  ------          --------------   -----  \n",
      " 0   PatientId       110527 non-null  float64\n",
      " 1   AppointmentID   110527 non-null  int64  \n",
      " 2   Gender          110527 non-null  object \n",
      " 3   ScheduledDay    110527 non-null  object \n",
      " 4   AppointmentDay  110527 non-null  object \n",
      " 5   Age             110527 non-null  int64  \n",
      " 6   Neighbourhood   110527 non-null  object \n",
      " 7   Scholarship     110527 non-null  int64  \n",
      " 8   Hipertension    110527 non-null  int64  \n",
      " 9   Diabetes        110527 non-null  int64  \n",
      " 10  Alcoholism      110527 non-null  int64  \n",
      " 11  Handcap         110527 non-null  int64  \n",
      " 12  SMS_received    110527 non-null  int64  \n",
      " 13  No-show         110527 non-null  object \n",
      "dtypes: float64(1), int64(8), object(5)\n",
      "memory usage: 11.8+ MB\n"
     ]
    }
   ],
   "source": [
    "df.info() #To know the datatypes and number of null values we have in each columns "
   ]
  },
  {
   "cell_type": "code",
   "execution_count": 30,
   "id": "47a1fb52",
   "metadata": {},
   "outputs": [
    {
     "data": {
      "text/plain": [
       "Gender                 2\n",
       "Scholarship            2\n",
       "Hipertension           2\n",
       "Diabetes               2\n",
       "Alcoholism             2\n",
       "SMS_received           2\n",
       "No-show                2\n",
       "Handcap                5\n",
       "AppointmentDay        27\n",
       "Neighbourhood         81\n",
       "Age                  104\n",
       "PatientId          62299\n",
       "ScheduledDay      103549\n",
       "AppointmentID     110527\n",
       "dtype: int64"
      ]
     },
     "execution_count": 30,
     "metadata": {},
     "output_type": "execute_result"
    }
   ],
   "source": [
    "df.nunique().sort_values() # To know the number of unique values in each columns"
   ]
  },
  {
   "cell_type": "markdown",
   "id": "2816f19a",
   "metadata": {},
   "source": [
    "<a id='eda'></a>\n",
    "### Exploratory Data Analysis"
   ]
  },
  {
   "cell_type": "markdown",
   "id": "71dde1e6",
   "metadata": {},
   "source": [
    "#### Renaming the Hipertension and Handcap Columns"
   ]
  },
  {
   "cell_type": "code",
   "execution_count": 31,
   "id": "d9055102",
   "metadata": {},
   "outputs": [],
   "source": [
    "df.rename(columns={'Hipertension':'Hypertension','Handcap':'Handicap'},inplace=True)"
   ]
  },
  {
   "cell_type": "markdown",
   "id": "d8cba4c4",
   "metadata": {},
   "source": [
    "The columns needs to be renamed for easy understanding"
   ]
  },
  {
   "cell_type": "code",
   "execution_count": 32,
   "id": "3ce74d04",
   "metadata": {
    "scrolled": true
   },
   "outputs": [
    {
     "data": {
      "text/html": [
       "<div>\n",
       "<style scoped>\n",
       "    .dataframe tbody tr th:only-of-type {\n",
       "        vertical-align: middle;\n",
       "    }\n",
       "\n",
       "    .dataframe tbody tr th {\n",
       "        vertical-align: top;\n",
       "    }\n",
       "\n",
       "    .dataframe thead th {\n",
       "        text-align: right;\n",
       "    }\n",
       "</style>\n",
       "<table border=\"1\" class=\"dataframe\">\n",
       "  <thead>\n",
       "    <tr style=\"text-align: right;\">\n",
       "      <th></th>\n",
       "      <th>PatientId</th>\n",
       "      <th>AppointmentID</th>\n",
       "      <th>Gender</th>\n",
       "      <th>ScheduledDay</th>\n",
       "      <th>AppointmentDay</th>\n",
       "      <th>Age</th>\n",
       "      <th>Neighbourhood</th>\n",
       "      <th>Scholarship</th>\n",
       "      <th>Hypertension</th>\n",
       "      <th>Diabetes</th>\n",
       "      <th>Alcoholism</th>\n",
       "      <th>Handicap</th>\n",
       "      <th>SMS_received</th>\n",
       "      <th>No-show</th>\n",
       "    </tr>\n",
       "  </thead>\n",
       "  <tbody>\n",
       "    <tr>\n",
       "      <th>0</th>\n",
       "      <td>2.987250e+13</td>\n",
       "      <td>5642903</td>\n",
       "      <td>F</td>\n",
       "      <td>2016-04-29T18:38:08Z</td>\n",
       "      <td>2016-04-29T00:00:00Z</td>\n",
       "      <td>62</td>\n",
       "      <td>JARDIM DA PENHA</td>\n",
       "      <td>0</td>\n",
       "      <td>1</td>\n",
       "      <td>0</td>\n",
       "      <td>0</td>\n",
       "      <td>0</td>\n",
       "      <td>0</td>\n",
       "      <td>No</td>\n",
       "    </tr>\n",
       "    <tr>\n",
       "      <th>1</th>\n",
       "      <td>5.589978e+14</td>\n",
       "      <td>5642503</td>\n",
       "      <td>M</td>\n",
       "      <td>2016-04-29T16:08:27Z</td>\n",
       "      <td>2016-04-29T00:00:00Z</td>\n",
       "      <td>56</td>\n",
       "      <td>JARDIM DA PENHA</td>\n",
       "      <td>0</td>\n",
       "      <td>0</td>\n",
       "      <td>0</td>\n",
       "      <td>0</td>\n",
       "      <td>0</td>\n",
       "      <td>0</td>\n",
       "      <td>No</td>\n",
       "    </tr>\n",
       "  </tbody>\n",
       "</table>\n",
       "</div>"
      ],
      "text/plain": [
       "      PatientId  AppointmentID Gender          ScheduledDay  \\\n",
       "0  2.987250e+13        5642903      F  2016-04-29T18:38:08Z   \n",
       "1  5.589978e+14        5642503      M  2016-04-29T16:08:27Z   \n",
       "\n",
       "         AppointmentDay  Age    Neighbourhood  Scholarship  Hypertension  \\\n",
       "0  2016-04-29T00:00:00Z   62  JARDIM DA PENHA            0             1   \n",
       "1  2016-04-29T00:00:00Z   56  JARDIM DA PENHA            0             0   \n",
       "\n",
       "   Diabetes  Alcoholism  Handicap  SMS_received No-show  \n",
       "0         0           0         0             0      No  \n",
       "1         0           0         0             0      No  "
      ]
     },
     "execution_count": 32,
     "metadata": {},
     "output_type": "execute_result"
    }
   ],
   "source": [
    "df.head(2) # To confirm that the columns has been renamed"
   ]
  },
  {
   "cell_type": "markdown",
   "id": "85fe09cc",
   "metadata": {},
   "source": [
    "#### Univariate Analysis"
   ]
  },
  {
   "cell_type": "code",
   "execution_count": 33,
   "id": "2d7b6e75",
   "metadata": {},
   "outputs": [
    {
     "data": {
      "text/plain": [
       "count    110527.000000\n",
       "mean         37.088874\n",
       "std          23.110205\n",
       "min          -1.000000\n",
       "25%          18.000000\n",
       "50%          37.000000\n",
       "75%          55.000000\n",
       "max         115.000000\n",
       "Name: Age, dtype: float64"
      ]
     },
     "execution_count": 33,
     "metadata": {},
     "output_type": "execute_result"
    }
   ],
   "source": [
    "df.Age.describe() # To understand the distribution of the Age"
   ]
  },
  {
   "cell_type": "markdown",
   "id": "f854985f",
   "metadata": {},
   "source": [
    "#### Removing Age with < 0"
   ]
  },
  {
   "cell_type": "code",
   "execution_count": 34,
   "id": "3a69fabc",
   "metadata": {},
   "outputs": [],
   "source": [
    "n_index = df[df['Age'] < 0].index"
   ]
  },
  {
   "cell_type": "code",
   "execution_count": 35,
   "id": "ff8f0e11",
   "metadata": {},
   "outputs": [],
   "source": [
    "df.drop(index=n_index,inplace=True)"
   ]
  },
  {
   "cell_type": "markdown",
   "id": "557db884",
   "metadata": {},
   "source": [
    "Ages lesser than zero were removed because it's impossible to have an age lesser than zero."
   ]
  },
  {
   "cell_type": "code",
   "execution_count": 36,
   "id": "8cc75280",
   "metadata": {},
   "outputs": [
    {
     "data": {
      "text/plain": [
       "(110526, 14)"
      ]
     },
     "execution_count": 36,
     "metadata": {},
     "output_type": "execute_result"
    }
   ],
   "source": [
    "df.shape"
   ]
  },
  {
   "cell_type": "code",
   "execution_count": 37,
   "id": "ff06d0cd",
   "metadata": {},
   "outputs": [
    {
     "data": {
      "text/plain": [
       "count    110526.000000\n",
       "mean         37.089219\n",
       "std          23.110026\n",
       "min           0.000000\n",
       "25%          18.000000\n",
       "50%          37.000000\n",
       "75%          55.000000\n",
       "max         115.000000\n",
       "Name: Age, dtype: float64"
      ]
     },
     "execution_count": 37,
     "metadata": {},
     "output_type": "execute_result"
    }
   ],
   "source": [
    "df.Age.describe() # To confirm the minimum value"
   ]
  },
  {
   "cell_type": "code",
   "execution_count": 38,
   "id": "b1f2166a",
   "metadata": {
    "scrolled": true
   },
   "outputs": [
    {
     "data": {
      "image/png": "[encoded data removed]",
      "text/plain": [
       "<Figure size 432x288 with 1 Axes>"
      ]
     },
     "metadata": {
      "needs_background": "light"
     },
     "output_type": "display_data"
    }
   ],
   "source": [
    "# Plot of the population of each age in the dataset\n",
    "plt.hist(df['Age'],label = 'Population');\n",
    "plt.xlabel('Age')\n",
    "plt.ylabel('Population')\n",
    "plt.legend()\n",
    "plt.title('Population of Each Age');"
   ]
  },
  {
   "cell_type": "markdown",
   "id": "18bed2a6",
   "metadata": {},
   "source": [
    "#### Creating Age Group "
   ]
  },
  {
   "cell_type": "code",
   "execution_count": 39,
   "id": "976b4db9",
   "metadata": {},
   "outputs": [],
   "source": [
    "df.loc[df['Age'] < 15 ,'Age_group'] = 'Children'\n",
    "df.loc[((df['Age'] > 14) & (df['Age'] < 25)) ,'Age_group'] = 'Youth'\n",
    "df.loc[(df['Age'] > 24) & (df['Age'] < 65 ),'Age_group'] = 'Adult'\n",
    "df.loc[df['Age'] > 64 ,'Age_group'] = 'Aged'"
   ]
  },
  {
   "cell_type": "code",
   "execution_count": 40,
   "id": "292d4da0",
   "metadata": {},
   "outputs": [
    {
     "data": {
      "text/plain": [
       "Adult       58857\n",
       "Children    23257\n",
       "Aged        14402\n",
       "Youth       14010\n",
       "Name: Age_group, dtype: int64"
      ]
     },
     "execution_count": 40,
     "metadata": {},
     "output_type": "execute_result"
    }
   ],
   "source": [
    "# Count the number of entries in each age group\n",
    "df['Age_group'].value_counts() "
   ]
  },
  {
   "cell_type": "code",
   "execution_count": 41,
   "id": "0e00b458",
   "metadata": {},
   "outputs": [
    {
     "data": {
      "image/png": "[encoded data removed]",
      "text/plain": [
       "<Figure size 432x288 with 1 Axes>"
      ]
     },
     "metadata": {
      "needs_background": "light"
     },
     "output_type": "display_data"
    }
   ],
   "source": [
    "#plot the population of each age group\n",
    "plt.hist(df['Age_group'],label = 'Age Group');\n",
    "plt.xlabel('Age Group')\n",
    "plt.ylabel('Population')\n",
    "plt.legend()\n",
    "plt.title('Population of The Age Group');"
   ]
  },
  {
   "cell_type": "markdown",
   "id": "fbd210ce",
   "metadata": {},
   "source": [
    "From the above plot, it can be deduced that adult goes to the hospital more than every other age group."
   ]
  },
  {
   "cell_type": "code",
   "execution_count": null,
   "id": "a2fd7e60",
   "metadata": {},
   "outputs": [],
   "source": []
  },
  {
   "cell_type": "code",
   "execution_count": 42,
   "id": "63ca3cce",
   "metadata": {},
   "outputs": [
    {
     "data": {
      "text/plain": [
       "0    2016-04-29T00:00:00Z\n",
       "1    2016-04-29T00:00:00Z\n",
       "2    2016-04-29T00:00:00Z\n",
       "3    2016-04-29T00:00:00Z\n",
       "4    2016-04-29T00:00:00Z\n",
       "Name: AppointmentDay, dtype: object"
      ]
     },
     "execution_count": 42,
     "metadata": {},
     "output_type": "execute_result"
    }
   ],
   "source": [
    "#Print the first five appointment day \n",
    "df['AppointmentDay'].head()"
   ]
  },
  {
   "cell_type": "code",
   "execution_count": 43,
   "id": "ba36791e",
   "metadata": {},
   "outputs": [
    {
     "data": {
      "text/plain": [
       "110522    2016-06-07T00:00:00Z\n",
       "110523    2016-06-07T00:00:00Z\n",
       "110524    2016-06-07T00:00:00Z\n",
       "110525    2016-06-07T00:00:00Z\n",
       "110526    2016-06-07T00:00:00Z\n",
       "Name: AppointmentDay, dtype: object"
      ]
     },
     "execution_count": 43,
     "metadata": {},
     "output_type": "execute_result"
    }
   ],
   "source": [
    "#Print the last five appointment day\n",
    "df['AppointmentDay'].tail()"
   ]
  },
  {
   "cell_type": "markdown",
   "id": "1cbe5425",
   "metadata": {},
   "source": [
    "#### Extracting the month of each appointment"
   ]
  },
  {
   "cell_type": "code",
   "execution_count": 44,
   "id": "29538ac8",
   "metadata": {},
   "outputs": [],
   "source": [
    "df['Month'] = df['AppointmentDay'].str.split('-',expand= True)[1].astype(int)"
   ]
  },
  {
   "cell_type": "code",
   "execution_count": 45,
   "id": "ea1d183a",
   "metadata": {},
   "outputs": [
    {
     "data": {
      "text/plain": [
       "0    4\n",
       "1    4\n",
       "2    4\n",
       "3    4\n",
       "4    4\n",
       "Name: Month, dtype: int32"
      ]
     },
     "execution_count": 45,
     "metadata": {},
     "output_type": "execute_result"
    }
   ],
   "source": [
    "# Confirm datas in month column\n",
    "df['Month'].head()"
   ]
  },
  {
   "cell_type": "code",
   "execution_count": 46,
   "id": "7a06a0cd",
   "metadata": {},
   "outputs": [
    {
     "data": {
      "text/plain": [
       "5    80841\n",
       "6    26450\n",
       "4     3235\n",
       "Name: Month, dtype: int64"
      ]
     },
     "execution_count": 46,
     "metadata": {},
     "output_type": "execute_result"
    }
   ],
   "source": [
    "df['Month'].value_counts()"
   ]
  },
  {
   "cell_type": "code",
   "execution_count": 47,
   "id": "0a6b36ad",
   "metadata": {},
   "outputs": [],
   "source": [
    "# Create a value_count plot function for reusability \n",
    "def value_count_plot(column_name):\n",
    "    \n",
    "    df[column_name].value_counts().plot(kind = 'bar',label = column_name)\n",
    "    plt.xlabel(column_name)\n",
    "    plt.ylabel('Number of Appointment')\n",
    "    plt.legend()"
   ]
  },
  {
   "cell_type": "code",
   "execution_count": 48,
   "id": "9f57dd6f",
   "metadata": {},
   "outputs": [
    {
     "data": {
      "image/png": "[encoded data removed]",
      "text/plain": [
       "<Figure size 432x288 with 1 Axes>"
      ]
     },
     "metadata": {
      "needs_background": "light"
     },
     "output_type": "display_data"
    }
   ],
   "source": [
    "# Plot the months value counts\n",
    "value_count_plot('Month')\n",
    "plt.title('Number of Appointment Per Month');"
   ]
  },
  {
   "cell_type": "markdown",
   "id": "4047ea81",
   "metadata": {},
   "source": [
    "From the plot it can be deduced that there were more appointments in May."
   ]
  },
  {
   "cell_type": "code",
   "execution_count": 84,
   "id": "77c9738d",
   "metadata": {},
   "outputs": [],
   "source": []
  },
  {
   "cell_type": "code",
   "execution_count": 49,
   "id": "41165391",
   "metadata": {},
   "outputs": [
    {
     "data": {
      "text/plain": [
       "array([0, 1], dtype=int64)"
      ]
     },
     "execution_count": 49,
     "metadata": {},
     "output_type": "execute_result"
    }
   ],
   "source": [
    "# Get the unique values in Alcoholism\n",
    "df['Alcoholism'].unique()"
   ]
  },
  {
   "cell_type": "code",
   "execution_count": 50,
   "id": "777c5abc",
   "metadata": {},
   "outputs": [
    {
     "data": {
      "text/plain": [
       "0    107166\n",
       "1      3360\n",
       "Name: Alcoholism, dtype: int64"
      ]
     },
     "execution_count": 50,
     "metadata": {},
     "output_type": "execute_result"
    }
   ],
   "source": [
    "# Get the value count in Alcoholism\n",
    "df['Alcoholism'].value_counts()"
   ]
  },
  {
   "cell_type": "code",
   "execution_count": 51,
   "id": "5940edcb",
   "metadata": {},
   "outputs": [
    {
     "data": {
      "image/png": "[encoded data removed]",
      "text/plain": [
       "<Figure size 432x288 with 1 Axes>"
      ]
     },
     "metadata": {
      "needs_background": "light"
     },
     "output_type": "display_data"
    }
   ],
   "source": [
    "# plot value counts in Alcoholism\n",
    "value_count_plot('Alcoholism')\n",
    "plt.title('Number of Appointment For Alcoholics and Non-Alcoholics');"
   ]
  },
  {
   "cell_type": "markdown",
   "id": "c63dc9b8",
   "metadata": {},
   "source": [
    "From the plot, more non alcoholics has more appointments than alcoholics"
   ]
  },
  {
   "cell_type": "code",
   "execution_count": null,
   "id": "c83512df",
   "metadata": {},
   "outputs": [],
   "source": []
  },
  {
   "cell_type": "code",
   "execution_count": 28,
   "id": "7b1f309a",
   "metadata": {},
   "outputs": [
    {
     "data": {
      "text/plain": [
       "array([0, 1], dtype=int64)"
      ]
     },
     "execution_count": 28,
     "metadata": {},
     "output_type": "execute_result"
    }
   ],
   "source": [
    "# Get the unique values in Diabetes\n",
    "df['Diabetes'].unique()"
   ]
  },
  {
   "cell_type": "code",
   "execution_count": 52,
   "id": "64c69afd",
   "metadata": {},
   "outputs": [
    {
     "data": {
      "text/plain": [
       "0    102583\n",
       "1      7943\n",
       "Name: Diabetes, dtype: int64"
      ]
     },
     "execution_count": 52,
     "metadata": {},
     "output_type": "execute_result"
    }
   ],
   "source": [
    "# Get the value count in Diabetes\n",
    "df[\"Diabetes\"].value_counts()"
   ]
  },
  {
   "cell_type": "code",
   "execution_count": 53,
   "id": "8e4b44dd",
   "metadata": {},
   "outputs": [
    {
     "data": {
      "image/png": "[encoded data removed]",
      "text/plain": [
       "<Figure size 432x288 with 1 Axes>"
      ]
     },
     "metadata": {
      "needs_background": "light"
     },
     "output_type": "display_data"
    }
   ],
   "source": [
    "# plot the value counts in Diabetes\n",
    "value_count_plot('Diabetes')\n",
    "plt.title('Number of Appointment For Diabetics and Non-Diabetics');"
   ]
  },
  {
   "cell_type": "markdown",
   "id": "5223b0ab",
   "metadata": {},
   "source": [
    "From the plot, it can be deduced that more non-diabetics has more appointment than diabetics"
   ]
  },
  {
   "cell_type": "code",
   "execution_count": null,
   "id": "8c5b1b8c",
   "metadata": {},
   "outputs": [],
   "source": []
  },
  {
   "cell_type": "code",
   "execution_count": 54,
   "id": "7f2edeb0",
   "metadata": {},
   "outputs": [
    {
     "data": {
      "text/plain": [
       "array(['F', 'M'], dtype=object)"
      ]
     },
     "execution_count": 54,
     "metadata": {},
     "output_type": "execute_result"
    }
   ],
   "source": [
    "# Get the unique values in Gender\n",
    "df['Gender'].unique()"
   ]
  },
  {
   "cell_type": "code",
   "execution_count": 55,
   "id": "c22cd233",
   "metadata": {},
   "outputs": [
    {
     "data": {
      "text/plain": [
       "F    71839\n",
       "M    38687\n",
       "Name: Gender, dtype: int64"
      ]
     },
     "execution_count": 55,
     "metadata": {},
     "output_type": "execute_result"
    }
   ],
   "source": [
    "# Get the value counts in Gender\n",
    "df['Gender'].value_counts()"
   ]
  },
  {
   "cell_type": "code",
   "execution_count": 56,
   "id": "0cdfeb3b",
   "metadata": {},
   "outputs": [
    {
     "data": {
      "image/png": "[encoded data removed]",
      "text/plain": [
       "<Figure size 432x288 with 1 Axes>"
      ]
     },
     "metadata": {
      "needs_background": "light"
     },
     "output_type": "display_data"
    }
   ],
   "source": [
    "# Plot the value counts in Gender\n",
    "value_count_plot('Gender')\n",
    "plt.title('Number of Appointment per Gender');"
   ]
  },
  {
   "cell_type": "markdown",
   "id": "10693c4a",
   "metadata": {},
   "source": [
    "From the plot, females has more appointment than males"
   ]
  },
  {
   "cell_type": "code",
   "execution_count": null,
   "id": "171e6b4a",
   "metadata": {},
   "outputs": [],
   "source": []
  },
  {
   "cell_type": "code",
   "execution_count": 57,
   "id": "71840d70",
   "metadata": {},
   "outputs": [
    {
     "data": {
      "text/plain": [
       "array([0, 1, 2, 3, 4], dtype=int64)"
      ]
     },
     "execution_count": 57,
     "metadata": {},
     "output_type": "execute_result"
    }
   ],
   "source": [
    "# Get the unique values in Handicap\n",
    "df['Handicap'].unique()"
   ]
  },
  {
   "cell_type": "code",
   "execution_count": 58,
   "id": "5493d5fd",
   "metadata": {},
   "outputs": [
    {
     "data": {
      "text/plain": [
       "0    108285\n",
       "1      2042\n",
       "2       183\n",
       "3        13\n",
       "4         3\n",
       "Name: Handicap, dtype: int64"
      ]
     },
     "execution_count": 58,
     "metadata": {},
     "output_type": "execute_result"
    }
   ],
   "source": [
    "# Get the value counts in Handicap\n",
    "df['Handicap'].value_counts()"
   ]
  },
  {
   "cell_type": "code",
   "execution_count": 59,
   "id": "eaac5d72",
   "metadata": {},
   "outputs": [
    {
     "data": {
      "image/png": "[encoded data removed]",
      "text/plain": [
       "<Figure size 432x288 with 1 Axes>"
      ]
     },
     "metadata": {
      "needs_background": "light"
     },
     "output_type": "display_data"
    }
   ],
   "source": [
    "# Plot the value counts in Handicap\n",
    "value_count_plot('Handicap');\n",
    "plt.title('Number of Appointment For Handicap');"
   ]
  },
  {
   "cell_type": "markdown",
   "id": "cbe3166f",
   "metadata": {},
   "source": [
    "Only few handicap has an appointment"
   ]
  },
  {
   "cell_type": "code",
   "execution_count": null,
   "id": "3e54fdc1",
   "metadata": {},
   "outputs": [],
   "source": []
  },
  {
   "cell_type": "code",
   "execution_count": 60,
   "id": "45562bcb",
   "metadata": {},
   "outputs": [
    {
     "data": {
      "text/plain": [
       "array([1, 0], dtype=int64)"
      ]
     },
     "execution_count": 60,
     "metadata": {},
     "output_type": "execute_result"
    }
   ],
   "source": [
    "# Get the unique values in Hypertension\n",
    "df['Hypertension'].unique()"
   ]
  },
  {
   "cell_type": "code",
   "execution_count": 61,
   "id": "589d5848",
   "metadata": {},
   "outputs": [
    {
     "data": {
      "text/plain": [
       "0    88725\n",
       "1    21801\n",
       "Name: Hypertension, dtype: int64"
      ]
     },
     "execution_count": 61,
     "metadata": {},
     "output_type": "execute_result"
    }
   ],
   "source": [
    "# Get the value counts in Hypertension\n",
    "df['Hypertension'].value_counts()"
   ]
  },
  {
   "cell_type": "code",
   "execution_count": 62,
   "id": "dcd3e005",
   "metadata": {},
   "outputs": [
    {
     "data": {
      "image/png": "[encoded data removed]",
      "text/plain": [
       "<Figure size 432x288 with 1 Axes>"
      ]
     },
     "metadata": {
      "needs_background": "light"
     },
     "output_type": "display_data"
    }
   ],
   "source": [
    "# plot the value counts in Hypertension\n",
    "value_count_plot('Hypertension')\n",
    "plt.title('Number of Appointment For Hypertensive and Non-Hypertensive Patients');"
   ]
  },
  {
   "cell_type": "markdown",
   "id": "e0f3761c",
   "metadata": {},
   "source": [
    "There are more non-hypertensive patient than hypertensive."
   ]
  },
  {
   "cell_type": "code",
   "execution_count": null,
   "id": "8731a744",
   "metadata": {},
   "outputs": [],
   "source": []
  },
  {
   "cell_type": "code",
   "execution_count": 63,
   "id": "1a04fe81",
   "metadata": {},
   "outputs": [
    {
     "data": {
      "text/plain": [
       "81"
      ]
     },
     "execution_count": 63,
     "metadata": {},
     "output_type": "execute_result"
    }
   ],
   "source": [
    "# Get the number of unique values in Neighbourhood\n",
    "df['Neighbourhood'].nunique()"
   ]
  },
  {
   "cell_type": "code",
   "execution_count": 64,
   "id": "f24887e8",
   "metadata": {
    "scrolled": true
   },
   "outputs": [
    {
     "data": {
      "text/plain": [
       "JARDIM CAMBURI       7717\n",
       "MARIA ORTIZ          5805\n",
       "RESISTÊNCIA          4431\n",
       "JARDIM DA PENHA      3877\n",
       "ITARARÉ              3514\n",
       "CENTRO               3334\n",
       "TABUAZEIRO           3132\n",
       "SANTA MARTHA         3131\n",
       "JESUS DE NAZARETH    2853\n",
       "BONFIM               2773\n",
       "Name: Neighbourhood, dtype: int64"
      ]
     },
     "execution_count": 64,
     "metadata": {},
     "output_type": "execute_result"
    }
   ],
   "source": [
    "# Get the first ten rows in Neighbourhood\n",
    "df['Neighbourhood'].value_counts().head(10)"
   ]
  },
  {
   "cell_type": "code",
   "execution_count": 65,
   "id": "7569947e",
   "metadata": {},
   "outputs": [
    {
     "data": {
      "image/png": "[encoded data removed]",
      "text/plain": [
       "<Figure size 432x288 with 1 Axes>"
      ]
     },
     "metadata": {
      "needs_background": "light"
     },
     "output_type": "display_data"
    }
   ],
   "source": [
    "# Plot a distribution plot of the population in every neighbourhood\n",
    "df['Neighbourhood'].value_counts().plot(kind='kde',label = 'Population Distribution');\n",
    "plt.xlabel('Population')\n",
    "plt.ylabel('Percentage of Neighbourhood')\n",
    "plt.legend()\n",
    "plt.title('Population per Neighbourhood');"
   ]
  },
  {
   "cell_type": "code",
   "execution_count": 66,
   "id": "dce87e6a",
   "metadata": {
    "scrolled": true
   },
   "outputs": [
    {
     "data": {
      "text/plain": [
       "PARQUE INDUSTRIAL                 1\n",
       "ILHAS OCEÂNICAS DE TRINDADE       2\n",
       "AEROPORTO                         8\n",
       "ILHA DO FRADE                    10\n",
       "ILHA DO BOI                      35\n",
       "                               ... \n",
       "ITARARÉ                        3514\n",
       "JARDIM DA PENHA                3877\n",
       "RESISTÊNCIA                    4431\n",
       "MARIA ORTIZ                    5805\n",
       "JARDIM CAMBURI                 7717\n",
       "Name: Neighbourhood, Length: 81, dtype: int64"
      ]
     },
     "execution_count": 66,
     "metadata": {},
     "output_type": "execute_result"
    }
   ],
   "source": [
    "#Counting the number of appointmrnt in each neighbourhood\n",
    "(df['Neighbourhood'].value_counts()).sort_values()"
   ]
  },
  {
   "cell_type": "code",
   "execution_count": 67,
   "id": "e2c96313",
   "metadata": {},
   "outputs": [
    {
     "data": {
      "text/plain": [
       "1364.5185185185185"
      ]
     },
     "execution_count": 67,
     "metadata": {},
     "output_type": "execute_result"
    }
   ],
   "source": [
    "# Calculating the average appointments in each number\n",
    "(df['Neighbourhood'].value_counts()).mean()"
   ]
  },
  {
   "cell_type": "code",
   "execution_count": 68,
   "id": "e960c5db",
   "metadata": {},
   "outputs": [
    {
     "data": {
      "text/plain": [
       "21"
      ]
     },
     "execution_count": 68,
     "metadata": {},
     "output_type": "execute_result"
    }
   ],
   "source": [
    "# Counting numbers of Neighbourhood with more than 2000 appointment\n",
    "((df['Neighbourhood'].value_counts()) > 2000).sum()"
   ]
  },
  {
   "cell_type": "markdown",
   "id": "e4e537ac",
   "metadata": {},
   "source": [
    "From the analysis that most, it can be deduced that about 75% of the Neighbourhood has a less than 2000 patients "
   ]
  },
  {
   "cell_type": "code",
   "execution_count": null,
   "id": "f00e20f5",
   "metadata": {},
   "outputs": [],
   "source": []
  },
  {
   "cell_type": "code",
   "execution_count": 69,
   "id": "32be23d1",
   "metadata": {},
   "outputs": [
    {
     "data": {
      "text/plain": [
       "array([0, 1], dtype=int64)"
      ]
     },
     "execution_count": 69,
     "metadata": {},
     "output_type": "execute_result"
    }
   ],
   "source": [
    "# getting the unique values in sms_received\n",
    "df['SMS_received'].unique()"
   ]
  },
  {
   "cell_type": "code",
   "execution_count": 70,
   "id": "57eeb674",
   "metadata": {},
   "outputs": [
    {
     "data": {
      "text/plain": [
       "0    75044\n",
       "1    35482\n",
       "Name: SMS_received, dtype: int64"
      ]
     },
     "execution_count": 70,
     "metadata": {},
     "output_type": "execute_result"
    }
   ],
   "source": [
    "# getting the value counts in sms_received\n",
    "df['SMS_received'].unique()\n",
    "df['SMS_received'].value_counts()"
   ]
  },
  {
   "cell_type": "code",
   "execution_count": 71,
   "id": "75ac6891",
   "metadata": {},
   "outputs": [
    {
     "data": {
      "image/png": "[encoded data removed]",
      "text/plain": [
       "<Figure size 432x288 with 1 Axes>"
      ]
     },
     "metadata": {
      "needs_background": "light"
     },
     "output_type": "display_data"
    }
   ],
   "source": [
    "# Plotting the value counts plot for sms received\n",
    "value_count_plot('SMS_received')\n",
    "plt.title('Number of Appointment Vs SMS');"
   ]
  },
  {
   "cell_type": "markdown",
   "id": "1d6557ab",
   "metadata": {},
   "source": [
    "Fewer people received sms"
   ]
  },
  {
   "cell_type": "code",
   "execution_count": null,
   "id": "e6159f5b",
   "metadata": {},
   "outputs": [],
   "source": []
  },
  {
   "cell_type": "code",
   "execution_count": 72,
   "id": "dc8abfc0",
   "metadata": {},
   "outputs": [
    {
     "data": {
      "text/plain": [
       "103548"
      ]
     },
     "execution_count": 72,
     "metadata": {},
     "output_type": "execute_result"
    }
   ],
   "source": [
    "# getting number of unique values in schedule day\n",
    "df['ScheduledDay'].nunique()"
   ]
  },
  {
   "cell_type": "code",
   "execution_count": null,
   "id": "aff554b2",
   "metadata": {},
   "outputs": [],
   "source": []
  },
  {
   "cell_type": "code",
   "execution_count": 60,
   "id": "530aae48",
   "metadata": {},
   "outputs": [
    {
     "data": {
      "text/plain": [
       "array([0, 1], dtype=int64)"
      ]
     },
     "execution_count": 60,
     "metadata": {},
     "output_type": "execute_result"
    }
   ],
   "source": [
    "# Unique scholaship status\n",
    "df['Scholarship'].unique()"
   ]
  },
  {
   "cell_type": "code",
   "execution_count": 73,
   "id": "22978bda",
   "metadata": {},
   "outputs": [
    {
     "data": {
      "text/plain": [
       "0    99665\n",
       "1    10861\n",
       "Name: Scholarship, dtype: int64"
      ]
     },
     "execution_count": 73,
     "metadata": {},
     "output_type": "execute_result"
    }
   ],
   "source": [
    "# Population in each scholarship status category\n",
    "df['Scholarship'].value_counts()"
   ]
  },
  {
   "cell_type": "code",
   "execution_count": 74,
   "id": "36c7fb7e",
   "metadata": {},
   "outputs": [
    {
     "data": {
      "image/png": "[encoded data removed]",
      "text/plain": [
       "<Figure size 432x288 with 1 Axes>"
      ]
     },
     "metadata": {
      "needs_background": "light"
     },
     "output_type": "display_data"
    }
   ],
   "source": [
    "#Plot of the population in each scholarship status category\n",
    "value_count_plot('Scholarship')\n",
    "plt.title('Number of Appointment Vs Scholarship Status');"
   ]
  },
  {
   "cell_type": "markdown",
   "id": "2a388958",
   "metadata": {},
   "source": [
    "There are less scholarship receipent among the patients "
   ]
  },
  {
   "cell_type": "code",
   "execution_count": null,
   "id": "e11371fc",
   "metadata": {},
   "outputs": [],
   "source": []
  },
  {
   "cell_type": "code",
   "execution_count": 75,
   "id": "c582957e",
   "metadata": {},
   "outputs": [
    {
     "data": {
      "text/plain": [
       "array(['No', 'Yes'], dtype=object)"
      ]
     },
     "execution_count": 75,
     "metadata": {},
     "output_type": "execute_result"
    }
   ],
   "source": [
    "# Unique values in No-show column\n",
    "df['No-show'].unique()"
   ]
  },
  {
   "cell_type": "code",
   "execution_count": 76,
   "id": "b60887fe",
   "metadata": {},
   "outputs": [
    {
     "data": {
      "text/plain": [
       "No     0.798066\n",
       "Yes    0.201934\n",
       "Name: No-show, dtype: float64"
      ]
     },
     "execution_count": 76,
     "metadata": {},
     "output_type": "execute_result"
    }
   ],
   "source": [
    "# Count of each category in no-show column\n",
    "df['No-show'].value_counts(normalize= True)"
   ]
  },
  {
   "cell_type": "code",
   "execution_count": 77,
   "id": "7cc6a82d",
   "metadata": {},
   "outputs": [
    {
     "data": {
      "image/png": "[encoded data removed]",
      "text/plain": [
       "<Figure size 432x288 with 1 Axes>"
      ]
     },
     "metadata": {
      "needs_background": "light"
     },
     "output_type": "display_data"
    }
   ],
   "source": [
    "# Plot of the count of each category in no-show column\n",
    "value_count_plot('No-show')\n",
    "plt.title('Number of Appointment Vs Availability Status');"
   ]
  },
  {
   "cell_type": "markdown",
   "id": "2f064a32",
   "metadata": {},
   "source": [
    " 79.8% were present for their appointment"
   ]
  },
  {
   "cell_type": "markdown",
   "id": "71af0858",
   "metadata": {},
   "source": [
    "### Bi Variate Analysis"
   ]
  },
  {
   "cell_type": "markdown",
   "id": "534dcb53",
   "metadata": {},
   "source": [
    "#### What gender is likely to miss an appointment?"
   ]
  },
  {
   "cell_type": "code",
   "execution_count": 78,
   "id": "fee30b99",
   "metadata": {},
   "outputs": [],
   "source": [
    "# Classifying gender based on missing appointment\n",
    "gender = df[['Gender','No-show']].groupby('No-show')"
   ]
  },
  {
   "cell_type": "code",
   "execution_count": 79,
   "id": "39e2660b",
   "metadata": {
    "scrolled": false
   },
   "outputs": [
    {
     "data": {
      "text/plain": [
       "F    0.653882\n",
       "M    0.346118\n",
       "Name: Gender, dtype: float64"
      ]
     },
     "execution_count": 79,
     "metadata": {},
     "output_type": "execute_result"
    }
   ],
   "source": [
    "# Counting the percentage distribution of missing appointment for both gender\n",
    "gender.get_group('Yes')['Gender'].value_counts(normalize=True)"
   ]
  },
  {
   "cell_type": "code",
   "execution_count": 102,
   "id": "c6a88503",
   "metadata": {},
   "outputs": [
    {
     "data": {
      "image/png": "[encoded data removed]",
      "text/plain": [
       "<Figure size 432x288 with 1 Axes>"
      ]
     },
     "metadata": {
      "needs_background": "light"
     },
     "output_type": "display_data"
    }
   ],
   "source": [
    "gender.get_group('Yes')['Gender'].value_counts().plot(kind='bar',label = 'Gender');\n",
    "plt.xlabel('Gender')\n",
    "plt.ylabel('Counts')\n",
    "plt.legend()\n",
    "plt.title('Number of Missing Appointment Vs Gender');"
   ]
  },
  {
   "cell_type": "markdown",
   "id": "2be3e5df",
   "metadata": {},
   "source": [
    "A female is likely to miss an appointment."
   ]
  },
  {
   "cell_type": "code",
   "execution_count": null,
   "id": "4770712c",
   "metadata": {},
   "outputs": [],
   "source": []
  },
  {
   "cell_type": "markdown",
   "id": "f53d34f0",
   "metadata": {},
   "source": [
    "#### What effect does age group has on absence on both genders?"
   ]
  },
  {
   "cell_type": "code",
   "execution_count": 80,
   "id": "db31d5d1",
   "metadata": {},
   "outputs": [],
   "source": [
    "# Grouping each patients gender and age group based on whether or not they miss an appointment\n",
    "gender_age = df[['Gender','Age_group','No-show']].groupby('No-show')"
   ]
  },
  {
   "cell_type": "code",
   "execution_count": 81,
   "id": "b328f9f8",
   "metadata": {},
   "outputs": [],
   "source": [
    "# Extracting the age group and gender for those that missed appointment\n",
    "gender_agegrp = gender_age.get_group('Yes')[['Gender','Age_group']]\n"
   ]
  },
  {
   "cell_type": "code",
   "execution_count": 82,
   "id": "3f0b19a1",
   "metadata": {},
   "outputs": [
    {
     "data": {
      "image/png": "[encoded data removed]",
      "text/plain": [
       "<Figure size 432x288 with 1 Axes>"
      ]
     },
     "metadata": {
      "needs_background": "light"
     },
     "output_type": "display_data"
    }
   ],
   "source": [
    "# Plotting the distribution for the gender in each age group that missed appointment\n",
    "plt.hist(gender_agegrp.Age_group[gender_agegrp.Gender == 'F'],facecolor = 'b',label = 'Female')\n",
    "plt.hist(gender_agegrp.Age_group[gender_agegrp.Gender == 'M'],facecolor = 'g',label = 'Male')\n",
    "plt.xlabel('Gender')\n",
    "plt.ylabel('Age_Group')\n",
    "plt.legend()\n",
    "plt.title('The Number Missing Appointment For Each Age Group and Gender');"
   ]
  },
  {
   "cell_type": "markdown",
   "id": "6b974762",
   "metadata": {},
   "source": [
    "An aged is less likely to miss an appointment while more adults miss appointment \n"
   ]
  },
  {
   "cell_type": "markdown",
   "id": "50bfbcb5",
   "metadata": {},
   "source": [
    "Female children did not have any appointment"
   ]
  },
  {
   "cell_type": "code",
   "execution_count": null,
   "id": "d6053dcc",
   "metadata": {},
   "outputs": [],
   "source": []
  },
  {
   "cell_type": "markdown",
   "id": "17f32375",
   "metadata": {},
   "source": [
    "#### Are scholarship receipents missing more appointment than those not receiving scholarship?"
   ]
  },
  {
   "cell_type": "code",
   "execution_count": 83,
   "id": "905b9985",
   "metadata": {},
   "outputs": [],
   "source": [
    "# Grouping the scholarship and No-show entries \n",
    "scholarship  = df[['Scholarship','No-show']].groupby('No-show')"
   ]
  },
  {
   "cell_type": "code",
   "execution_count": 84,
   "id": "399e59a5",
   "metadata": {
    "scrolled": true
   },
   "outputs": [
    {
     "data": {
      "text/plain": [
       "0    0.884493\n",
       "1    0.115507\n",
       "Name: Scholarship, dtype: float64"
      ]
     },
     "execution_count": 84,
     "metadata": {},
     "output_type": "execute_result"
    }
   ],
   "source": [
    "# Extracting the distribution of scholarship status for those that missed thier appointment\n",
    "scholarship.get_group('Yes')['Scholarship'].value_counts(normalize=True)"
   ]
  },
  {
   "cell_type": "code",
   "execution_count": 85,
   "id": "c0e031ce",
   "metadata": {},
   "outputs": [
    {
     "data": {
      "image/png": "[encoded data removed]",
      "text/plain": [
       "<Figure size 432x288 with 1 Axes>"
      ]
     },
     "metadata": {
      "needs_background": "light"
     },
     "output_type": "display_data"
    }
   ],
   "source": [
    "# Plot the value counts of the scholarship status for missed appointment\n",
    "scholarship.get_group('Yes')['Scholarship'].value_counts().plot(kind='bar',label = 'Scholarship Status');\n",
    "plt.xlabel('Scholarship Receipent')\n",
    "plt.ylabel('Missing Appointment')\n",
    "plt.legend()\n",
    "plt.title('Number of Missing Appointment Vs Scholarship Status');"
   ]
  },
  {
   "cell_type": "markdown",
   "id": "60bd8572",
   "metadata": {},
   "source": [
    "Scholarship receipent miss fewer appointments compared to non-receipient"
   ]
  },
  {
   "cell_type": "code",
   "execution_count": null,
   "id": "f7c68774",
   "metadata": {},
   "outputs": [],
   "source": []
  },
  {
   "cell_type": "markdown",
   "id": "b1fde98e",
   "metadata": {},
   "source": [
    "#### What criteria is used to select scholarship receipent?"
   ]
  },
  {
   "cell_type": "code",
   "execution_count": 86,
   "id": "21ca06b4",
   "metadata": {},
   "outputs": [],
   "source": [
    "# Creating a subset data for scholarship, hypertension, diabetes, and age group \n",
    "sch_hyp_dia_age = df[['Scholarship','Hypertension','Diabetes','Age_group']].groupby('Scholarship')"
   ]
  },
  {
   "cell_type": "code",
   "execution_count": 87,
   "id": "7b335b75",
   "metadata": {
    "scrolled": false
   },
   "outputs": [],
   "source": [
    "# extracting the age group and hypertension status for receipent of scholarship\n",
    "sch_hyp_age= sch_hyp_dia_age.get_group(1)[['Hypertension','Age_group']]"
   ]
  },
  {
   "cell_type": "code",
   "execution_count": 88,
   "id": "8884aceb",
   "metadata": {},
   "outputs": [
    {
     "data": {
      "image/png": "[encoded data removed]",
      "text/plain": [
       "<Figure size 432x288 with 1 Axes>"
      ]
     },
     "metadata": {
      "needs_background": "light"
     },
     "output_type": "display_data"
    }
   ],
   "source": [
    "# Plotting the age group and hypertension status of scholars\n",
    "plt.hist(sch_hyp_age.Age_group[sch_hyp_age.Hypertension == 1],facecolor='b',label='Hypertensive')\n",
    "plt.hist(sch_hyp_age.Age_group[sch_hyp_age.Hypertension == 0],facecolor='g',label='Nomotensive')\n",
    "plt.xlabel('Hypertension Status')\n",
    "plt.ylabel('Number of Scholars')\n",
    "plt.legend()\n",
    "plt.title('Number of Scholars Vs Hypertension Status');"
   ]
  },
  {
   "cell_type": "markdown",
   "id": "e30d16ed",
   "metadata": {},
   "source": [
    "From the plot, \n",
    "1. it can be deduced that aside the aged individuals non of the other age group among the receipient of the scholarship are hypertensive \n",
    "2. The aged are monority among the scholarship receipient\n"
   ]
  },
  {
   "cell_type": "code",
   "execution_count": null,
   "id": "ee53eff0",
   "metadata": {},
   "outputs": [],
   "source": []
  },
  {
   "cell_type": "code",
   "execution_count": 89,
   "id": "4760ab8b",
   "metadata": {},
   "outputs": [
    {
     "data": {
      "image/png": "[encoded data removed]",
      "text/plain": [
       "<Figure size 432x288 with 1 Axes>"
      ]
     },
     "metadata": {
      "needs_background": "light"
     },
     "output_type": "display_data"
    }
   ],
   "source": [
    "# Extracting and plotting diabetes and hypertension status of scholars\n",
    "sch_dia_age= sch_hyp_dia_age.get_group(1)[['Diabetes','Age_group']]\n",
    "plt.hist(sch_dia_age.Age_group[sch_dia_age.Diabetes == 1],facecolor='b',label='diabetic')\n",
    "plt.hist(sch_dia_age.Age_group[sch_dia_age.Diabetes == 0],facecolor='g',label='Nondiabetic')\n",
    "plt.xlabel('Diabetes Status')\n",
    "plt.ylabel('Number of Scholars')\n",
    "plt.legend()\n",
    "plt.title('Number of Scholars Vs diaertension Status');"
   ]
  },
  {
   "cell_type": "markdown",
   "id": "d506ad22",
   "metadata": {},
   "source": [
    "Non of the scholarship receipient is diabetic"
   ]
  },
  {
   "cell_type": "code",
   "execution_count": 90,
   "id": "81154672",
   "metadata": {},
   "outputs": [
    {
     "data": {
      "image/png": "[encoded data removed]",
      "text/plain": [
       "<Figure size 432x288 with 1 Axes>"
      ]
     },
     "metadata": {
      "needs_background": "light"
     },
     "output_type": "display_data"
    }
   ],
   "source": [
    "# Extracting and plotting the value count of the scholars age group \n",
    "sch_hyp_dia_age.get_group(1)[['Age_group']].value_counts().plot(kind='bar',label = 'scholars');\n",
    "plt.xlabel('Age Group')\n",
    "plt.legend()\n",
    "plt.ylabel('Number of Scholars')\n",
    "plt.title('Number of Scholars vs Age Group');"
   ]
  },
  {
   "cell_type": "markdown",
   "id": "d3e8f1dd",
   "metadata": {},
   "source": [
    "#### From the analysis, the following can be deduced \n",
    "1. Adults are the most populous receipient of the scholarship and the Aged are only given the scholarship if they have Hypertension.  \n",
    "2. No scholarship receipient is diabetic.\n",
    "3. Only aged receipient of the scholarship has some hypertensive patient "
   ]
  },
  {
   "cell_type": "markdown",
   "id": "5f75d373",
   "metadata": {},
   "source": [
    "#### Did hypertensive patients miss more appointment?"
   ]
  },
  {
   "cell_type": "code",
   "execution_count": 92,
   "id": "e6e51e7e",
   "metadata": {},
   "outputs": [],
   "source": [
    "# Creating a subset data for hypertension and No-show\n",
    "hypertension  = df[['Hypertension','No-show']].groupby('Hypertension')"
   ]
  },
  {
   "cell_type": "code",
   "execution_count": 93,
   "id": "680f7715",
   "metadata": {},
   "outputs": [
    {
     "data": {
      "image/png": "[encoded data removed]",
      "text/plain": [
       "<Figure size 432x288 with 1 Axes>"
      ]
     },
     "metadata": {
      "needs_background": "light"
     },
     "output_type": "display_data"
    }
   ],
   "source": [
    "# Plotting the value counts of missing appointment for hypertensive patients\n",
    "hypertension.get_group(1)['No-show'].value_counts().plot(kind='bar',label = 'Appointment Status')\n",
    "plt.xlabel('Hypertension Status')\n",
    "plt.ylabel('Number of Missing Appointment')\n",
    "plt.legend()\n",
    "plt.title('Number of Missing Apartment Vs Hypertension Status');"
   ]
  },
  {
   "cell_type": "markdown",
   "id": "3edf9ef1",
   "metadata": {},
   "source": [
    "No, hypertensive patients did not miss a most of the appointment"
   ]
  },
  {
   "cell_type": "markdown",
   "id": "b9e17932",
   "metadata": {},
   "source": [
    "#### What age group has more hypertension?"
   ]
  },
  {
   "cell_type": "code",
   "execution_count": 94,
   "id": "3e0ae08e",
   "metadata": {},
   "outputs": [
    {
     "data": {
      "image/png": "[encoded data removed]",
      "text/plain": [
       "<Figure size 432x288 with 1 Axes>"
      ]
     },
     "metadata": {
      "needs_background": "light"
     },
     "output_type": "display_data"
    }
   ],
   "source": [
    "# Plotting the counts in each age group for hypertensive and monotensive patients\n",
    "df[['Hypertension','Age_group']].groupby('Hypertension')['Age_group'].value_counts(normalize=True).unstack('Age_group').plot.bar(stacked=True)\n",
    "plt.legend();"
   ]
  },
  {
   "cell_type": "markdown",
   "id": "20559cd6",
   "metadata": {},
   "source": [
    "Hypertensive patient are either Aged or Adult"
   ]
  },
  {
   "cell_type": "code",
   "execution_count": 95,
   "id": "1b1f1b28",
   "metadata": {},
   "outputs": [],
   "source": [
    "# Creating a subset for hypertension status and age group\n",
    "hyper_age  = df[['Hypertension','Age_group']].groupby('Hypertension')"
   ]
  },
  {
   "cell_type": "code",
   "execution_count": 98,
   "id": "071eefc5",
   "metadata": {
    "scrolled": true
   },
   "outputs": [
    {
     "data": {
      "text/plain": [
       "Adult       0.603826\n",
       "Aged        0.391588\n",
       "Youth       0.003670\n",
       "Children    0.000917\n",
       "Name: Age_group, dtype: float64"
      ]
     },
     "execution_count": 98,
     "metadata": {},
     "output_type": "execute_result"
    }
   ],
   "source": [
    "# Calculating the percentage of hypertensive patients from each age group\n",
    "hyper_age.get_group(1)['Age_group'].value_counts(normalize=True)"
   ]
  },
  {
   "cell_type": "code",
   "execution_count": 97,
   "id": "893c314e",
   "metadata": {},
   "outputs": [
    {
     "data": {
      "image/png": "[encoded data removed]",
      "text/plain": [
       "<Figure size 432x288 with 1 Axes>"
      ]
     },
     "metadata": {
      "needs_background": "light"
     },
     "output_type": "display_data"
    }
   ],
   "source": [
    "#plotting the value counts of hypertensive patients in each age group\n",
    "hyper_age.get_group(1)['Age_group'].value_counts().plot(kind='bar',label='Age Group');\n",
    "plt.xlabel('Age Group')\n",
    "plt.ylabel('Hypertension Status')\n",
    "plt.legend()\n",
    "plt.title('Hypertensiom Status vs Age Group');"
   ]
  },
  {
   "cell_type": "markdown",
   "id": "a03c6801",
   "metadata": {},
   "source": [
    "More than 60% of the hypertensive patients are adults"
   ]
  },
  {
   "cell_type": "markdown",
   "id": "c37fbafa",
   "metadata": {},
   "source": [
    "#### Did most hypertensive patient have diabetes? "
   ]
  },
  {
   "cell_type": "code",
   "execution_count": 99,
   "id": "16ef2048",
   "metadata": {},
   "outputs": [],
   "source": [
    "# Create a subset data for hypertension and diabetes status\n",
    "hyper_dia  = df[['Hypertension','Diabetes']].groupby('Hypertension')"
   ]
  },
  {
   "cell_type": "code",
   "execution_count": 100,
   "id": "0dce221a",
   "metadata": {},
   "outputs": [
    {
     "data": {
      "text/plain": [
       "0    0.702491\n",
       "1    0.297509\n",
       "Name: Diabetes, dtype: float64"
      ]
     },
     "execution_count": 100,
     "metadata": {},
     "output_type": "execute_result"
    }
   ],
   "source": [
    "# Value count of the diabetes status for hypertensive patients\n",
    "hyper_dia.get_group(1)['Diabetes'].value_counts(normalize=True)"
   ]
  },
  {
   "cell_type": "code",
   "execution_count": 101,
   "id": "638f8f42",
   "metadata": {},
   "outputs": [
    {
     "data": {
      "image/png": "[encoded data removed]",
      "text/plain": [
       "<Figure size 432x288 with 1 Axes>"
      ]
     },
     "metadata": {
      "needs_background": "light"
     },
     "output_type": "display_data"
    }
   ],
   "source": [
    "# Plot of the value count of the diabetes status for hypertensive patients \n",
    "hyper_dia.get_group(1)['Diabetes'].value_counts().plot(kind='bar',label = 'Hypertension Status')\n",
    "plt.xlabel('Hypertension Status')\n",
    "plt.ylabel('Count of Diabetes Status')\n",
    "plt.legend()\n",
    "plt.title('Count of Diabetes Status Vs Hypertension Status');"
   ]
  },
  {
   "cell_type": "markdown",
   "id": "6196dc4b",
   "metadata": {},
   "source": [
    "No, a larger percentage of hypertensive patients did not have diabetes"
   ]
  },
  {
   "cell_type": "markdown",
   "id": "58e20dd6",
   "metadata": {},
   "source": [
    "#### what percentage of hypertensive patients takes alcohol?"
   ]
  },
  {
   "cell_type": "code",
   "execution_count": 104,
   "id": "84275c69",
   "metadata": {},
   "outputs": [],
   "source": [
    "# Create a subset data for hypertension and Alcoholism status\n",
    "hyper_alc = df[['Hypertension','Alcoholism']].groupby('Hypertension')"
   ]
  },
  {
   "cell_type": "code",
   "execution_count": 105,
   "id": "b910c00f",
   "metadata": {},
   "outputs": [
    {
     "data": {
      "text/plain": [
       "0    0.939131\n",
       "1    0.060869\n",
       "Name: Alcoholism, dtype: float64"
      ]
     },
     "execution_count": 105,
     "metadata": {},
     "output_type": "execute_result"
    }
   ],
   "source": [
    "# Value count percentage of the Alcoholism status for hypertensive patients\n",
    "hyper_alc.get_group(1)['Alcoholism'].value_counts(normalize=True)"
   ]
  },
  {
   "cell_type": "code",
   "execution_count": 106,
   "id": "b0bbc175",
   "metadata": {},
   "outputs": [
    {
     "data": {
      "image/png": "[encoded data removed]",
      "text/plain": [
       "<Figure size 432x288 with 1 Axes>"
      ]
     },
     "metadata": {
      "needs_background": "light"
     },
     "output_type": "display_data"
    }
   ],
   "source": [
    "# Plotting the value count percentage of the Alcoholism status for hypertensive patients\n",
    "hyper_alc.get_group(1)['Alcoholism'].value_counts().plot(kind='bar',label ='Hypertension Status')\n",
    "plt.xlabel('Hypertension Status')\n",
    "plt.ylabel('Count of Alcoholism Status')\n",
    "plt.legend()\n",
    "plt.title('Count of Alcoholism Status Vs Hypertension Status');"
   ]
  },
  {
   "cell_type": "markdown",
   "id": "43e00690",
   "metadata": {},
   "source": [
    " 6.09 % of Hypertensive patients takes alcohol "
   ]
  },
  {
   "cell_type": "markdown",
   "id": "a9021d5d",
   "metadata": {},
   "source": [
    "#### How many diabetic patients miss their appointment?"
   ]
  },
  {
   "cell_type": "code",
   "execution_count": 169,
   "id": "acfa181a",
   "metadata": {},
   "outputs": [],
   "source": [
    "diabetes  = df[['Diabetes','No-show']].groupby('Diabetes')"
   ]
  },
  {
   "cell_type": "code",
   "execution_count": 170,
   "id": "f3e0777c",
   "metadata": {},
   "outputs": [
    {
     "data": {
      "text/plain": [
       "No     6513\n",
       "Yes    1430\n",
       "Name: No-show, dtype: int64"
      ]
     },
     "execution_count": 170,
     "metadata": {},
     "output_type": "execute_result"
    }
   ],
   "source": [
    "diabetes.get_group(1)['No-show'].value_counts()"
   ]
  },
  {
   "cell_type": "code",
   "execution_count": 172,
   "id": "e46b8b1f",
   "metadata": {},
   "outputs": [
    {
     "data": {
      "image/png": "[encoded data removed]",
      "text/plain": [
       "<Figure size 432x288 with 1 Axes>"
      ]
     },
     "metadata": {
      "needs_background": "light"
     },
     "output_type": "display_data"
    }
   ],
   "source": [
    "diabetes.get_group(1)['No-show'].value_counts().plot(kind='bar',label = 'Diabetes status')\n",
    "plt.xlabel('Diabetes Status')\n",
    "plt.ylabel('Number of Missing Appointment')\n",
    "plt.legend()\n",
    "plt.title('Number of Missing Appointment Vs Diabetes Status');"
   ]
  },
  {
   "cell_type": "markdown",
   "id": "0bcfa8c1",
   "metadata": {},
   "source": [
    "1430 diabetic patients missed thier appointmen"
   ]
  },
  {
   "cell_type": "markdown",
   "id": "e0489d8c",
   "metadata": {},
   "source": [
    "#### What percentage of alcoholics are diabetic?"
   ]
  },
  {
   "cell_type": "code",
   "execution_count": 173,
   "id": "e332d8f5",
   "metadata": {},
   "outputs": [],
   "source": [
    "dia_alc  = df[['Diabetes','Alcoholism']].groupby('Alcoholism')"
   ]
  },
  {
   "cell_type": "code",
   "execution_count": 174,
   "id": "6a6fd649",
   "metadata": {},
   "outputs": [
    {
     "data": {
      "text/plain": [
       "0    0.90119\n",
       "1    0.09881\n",
       "Name: Diabetes, dtype: float64"
      ]
     },
     "execution_count": 174,
     "metadata": {},
     "output_type": "execute_result"
    }
   ],
   "source": [
    "dia_alc.get_group(1)['Diabetes'].value_counts(normalize=True)"
   ]
  },
  {
   "cell_type": "code",
   "execution_count": 176,
   "id": "65616320",
   "metadata": {},
   "outputs": [
    {
     "data": {
      "image/png": "[encoded data removed]",
      "text/plain": [
       "<Figure size 432x288 with 1 Axes>"
      ]
     },
     "metadata": {
      "needs_background": "light"
     },
     "output_type": "display_data"
    }
   ],
   "source": [
    "dia_alc.get_group(1)['Diabetes'].value_counts().plot(kind='bar',label = 'Diabetes Status')\n",
    "plt.xlabel('Diabetes Status')\n",
    "plt.ylabel('Number of Alcoholics')\n",
    "plt.legend()\n",
    "plt.title('Number of Alcoholics Vs Diabetes Status');"
   ]
  },
  {
   "cell_type": "markdown",
   "id": "71ba2bd6",
   "metadata": {},
   "source": [
    " 9.88 % of alcoholics are diabetic"
   ]
  },
  {
   "cell_type": "markdown",
   "id": "00d4c4f2",
   "metadata": {},
   "source": [
    "#### Did Alcoholics miss more appointment than non-alcoholics?"
   ]
  },
  {
   "cell_type": "code",
   "execution_count": 177,
   "id": "074f9220",
   "metadata": {},
   "outputs": [],
   "source": [
    "alcoholism  = df[['Alcoholism','No-show']].groupby('No-show')"
   ]
  },
  {
   "cell_type": "code",
   "execution_count": 178,
   "id": "1578bfe2",
   "metadata": {},
   "outputs": [
    {
     "data": {
      "text/plain": [
       "0    21642\n",
       "1      677\n",
       "Name: Alcoholism, dtype: int64"
      ]
     },
     "execution_count": 178,
     "metadata": {},
     "output_type": "execute_result"
    }
   ],
   "source": [
    "alcoholism.get_group('Yes')['Alcoholism'].value_counts()"
   ]
  },
  {
   "cell_type": "code",
   "execution_count": 179,
   "id": "603e0996",
   "metadata": {},
   "outputs": [
    {
     "data": {
      "image/png": "[encoded data removed]",
      "text/plain": [
       "<Figure size 432x288 with 1 Axes>"
      ]
     },
     "metadata": {
      "needs_background": "light"
     },
     "output_type": "display_data"
    }
   ],
   "source": [
    "alcoholism.get_group('Yes')['Alcoholism'].value_counts().plot(kind='bar',label = 'Alcoholism Status')\n",
    "plt.xlabel('Alcoholism Status')\n",
    "plt.ylabel('Number of Missing Appointment')\n",
    "plt.legend()\n",
    "plt.title('Number of Missing Appointment Vs Alcoholism Status');"
   ]
  },
  {
   "cell_type": "markdown",
   "id": "23ce3376",
   "metadata": {},
   "source": [
    "No, there are more Non - alcoholics that missed their appointment than alcoholics"
   ]
  },
  {
   "cell_type": "markdown",
   "id": "a37e56aa",
   "metadata": {},
   "source": [
    "#### What was the effect of the sms on patients appointment?"
   ]
  },
  {
   "cell_type": "code",
   "execution_count": 180,
   "id": "41a196bd",
   "metadata": {},
   "outputs": [],
   "source": [
    "sms = df[['SMS_received','No-show']].groupby('No-show')"
   ]
  },
  {
   "cell_type": "code",
   "execution_count": 181,
   "id": "4911aef0",
   "metadata": {},
   "outputs": [
    {
     "data": {
      "text/plain": [
       "0    62509\n",
       "1    25698\n",
       "Name: SMS_received, dtype: int64"
      ]
     },
     "execution_count": 181,
     "metadata": {},
     "output_type": "execute_result"
    }
   ],
   "source": [
    "sms.get_group('No')['SMS_received'].value_counts()"
   ]
  },
  {
   "cell_type": "code",
   "execution_count": 182,
   "id": "6c3199cf",
   "metadata": {},
   "outputs": [
    {
     "data": {
      "text/plain": [
       "0    12535\n",
       "1     9784\n",
       "Name: SMS_received, dtype: int64"
      ]
     },
     "execution_count": 182,
     "metadata": {},
     "output_type": "execute_result"
    }
   ],
   "source": [
    "sms.get_group('Yes')['SMS_received'].value_counts()"
   ]
  },
  {
   "cell_type": "markdown",
   "id": "661e24b8",
   "metadata": {},
   "source": [
    " The sms decreases the number of patients that missed thier meeting."
   ]
  },
  {
   "cell_type": "markdown",
   "id": "dff69912",
   "metadata": {},
   "source": [
    "#### What is the percentage of missing appointments for each handicap?"
   ]
  },
  {
   "cell_type": "code",
   "execution_count": 183,
   "id": "eb41880b",
   "metadata": {},
   "outputs": [],
   "source": [
    "handicap = df[['Handicap','No-show']].groupby('No-show')"
   ]
  },
  {
   "cell_type": "code",
   "execution_count": 184,
   "id": "45c4597d",
   "metadata": {},
   "outputs": [
    {
     "data": {
      "text/plain": [
       "0    0.979208\n",
       "1    0.019001\n",
       "2    0.001655\n",
       "3    0.000113\n",
       "4    0.000023\n",
       "Name: Handicap, dtype: float64"
      ]
     },
     "execution_count": 184,
     "metadata": {},
     "output_type": "execute_result"
    }
   ],
   "source": [
    "handicap.get_group('No')['Handicap'].value_counts(normalize=True)"
   ]
  },
  {
   "cell_type": "code",
   "execution_count": 185,
   "id": "6096719e",
   "metadata": {},
   "outputs": [
    {
     "data": {
      "text/plain": [
       "0    0.981764\n",
       "1    0.016399\n",
       "2    0.001658\n",
       "3    0.000134\n",
       "4    0.000045\n",
       "Name: Handicap, dtype: float64"
      ]
     },
     "execution_count": 185,
     "metadata": {},
     "output_type": "execute_result"
    }
   ],
   "source": [
    "handicap.get_group('Yes')['Handicap'].value_counts(normalize=True)"
   ]
  },
  {
   "cell_type": "markdown",
   "id": "5324cafa",
   "metadata": {},
   "source": [
    "Although, there are fewer handicaps in the data and about 0.02% of those that missed thier appointment are handicaps "
   ]
  },
  {
   "cell_type": "markdown",
   "id": "bdc130c6",
   "metadata": {},
   "source": [
    "#### What age group are the most diabetic?"
   ]
  },
  {
   "cell_type": "code",
   "execution_count": 186,
   "id": "fd15e7e5",
   "metadata": {},
   "outputs": [],
   "source": [
    "age_diabetes = df[['Age_group','Diabetes']].groupby('Diabetes')"
   ]
  },
  {
   "cell_type": "code",
   "execution_count": 187,
   "id": "8e2d1365",
   "metadata": {},
   "outputs": [
    {
     "data": {
      "text/plain": [
       "Adult       0.565152\n",
       "Aged        0.423392\n",
       "Youth       0.009065\n",
       "Children    0.002392\n",
       "Name: Age_group, dtype: float64"
      ]
     },
     "execution_count": 187,
     "metadata": {},
     "output_type": "execute_result"
    }
   ],
   "source": [
    "age_diabetes.get_group(1)['Age_group'].value_counts(normalize=True)"
   ]
  },
  {
   "cell_type": "code",
   "execution_count": 189,
   "id": "f25b5a89",
   "metadata": {},
   "outputs": [
    {
     "data": {
      "image/png": "[encoded data removed]",
      "text/plain": [
       "<Figure size 432x288 with 1 Axes>"
      ]
     },
     "metadata": {
      "needs_background": "light"
     },
     "output_type": "display_data"
    }
   ],
   "source": [
    "age_diabetes.get_group(1)['Age_group'].value_counts().plot(kind='bar',label = 'Age Group');\n",
    "plt.xlabel('Age Group')\n",
    "plt.ylabel('Number of Diabetics')\n",
    "plt.legend()\n",
    "plt.title('Number of Diabetics Vs Age Group');"
   ]
  },
  {
   "cell_type": "markdown",
   "id": "20e7f238",
   "metadata": {},
   "source": [
    " Most diabetics patients are either adults or aged"
   ]
  },
  {
   "cell_type": "markdown",
   "id": "f51b57ce",
   "metadata": {},
   "source": [
    "#### What Gender and Age Group Are More Likely to Have Diabetes"
   ]
  },
  {
   "cell_type": "code",
   "execution_count": 190,
   "id": "c7410d70",
   "metadata": {},
   "outputs": [],
   "source": [
    "gender_diabetes = df[['Gender','Diabetes']].groupby('Diabetes')"
   ]
  },
  {
   "cell_type": "code",
   "execution_count": 191,
   "id": "28421465",
   "metadata": {},
   "outputs": [
    {
     "data": {
      "text/plain": [
       "F    5606\n",
       "M    2337\n",
       "Name: Gender, dtype: int64"
      ]
     },
     "execution_count": 191,
     "metadata": {},
     "output_type": "execute_result"
    }
   ],
   "source": [
    "gender_diabetes.get_group(1)['Gender'].value_counts()"
   ]
  },
  {
   "cell_type": "code",
   "execution_count": 192,
   "id": "aeaf48a3",
   "metadata": {},
   "outputs": [
    {
     "data": {
      "image/png": "[encoded data removed]",
      "text/plain": [
       "<Figure size 432x288 with 1 Axes>"
      ]
     },
     "metadata": {
      "needs_background": "light"
     },
     "output_type": "display_data"
    }
   ],
   "source": [
    "gender_diabetes.get_group(1)['Gender'].value_counts(normalize=True).plot(kind = 'bar',label ='Gender');\n",
    "plt.xlabel('Gender')\n",
    "plt.ylabel('Number of Diabetics')\n",
    "plt.legend()\n",
    "plt.title('Number of Diabetics Vs Gender');"
   ]
  },
  {
   "cell_type": "code",
   "execution_count": 196,
   "id": "46b67dd1",
   "metadata": {},
   "outputs": [],
   "source": [
    "age_dia_gen = df[['Age_group','Diabetes','Gender']].groupby('Diabetes')\n",
    "age_gender = age_dia_gen.get_group(1)[['Age_group','Gender']]"
   ]
  },
  {
   "cell_type": "code",
   "execution_count": 197,
   "id": "8a3fcff3",
   "metadata": {},
   "outputs": [
    {
     "data": {
      "image/png": "[encoded data removed]",
      "text/plain": [
       "<Figure size 432x288 with 1 Axes>"
      ]
     },
     "metadata": {
      "needs_background": "light"
     },
     "output_type": "display_data"
    }
   ],
   "source": [
    "plt.hist(age_gender.Age_group[age_gender.Gender == 'M'],facecolor = 'b',label='Male')\n",
    "plt.hist(age_gender.Age_group[age_gender.Gender == 'F'],facecolor = 'g',label='Female')\n",
    "plt.xlabel('Age Group and Gender')\n",
    "plt.ylabel('Number of Non-Diabetics')\n",
    "plt.legend()\n",
    "plt.title('Number of Non-Diabetics Vs Age Group and Gender');"
   ]
  },
  {
   "cell_type": "markdown",
   "id": "80014b99",
   "metadata": {},
   "source": [
    "#### From the plot above, it can be deduced\n",
    "1. Most diabetic patients are above 24(Youth age) and are mostly females\n",
    "2. There are more female diabetic patient than male diabetic patient"
   ]
  },
  {
   "cell_type": "code",
   "execution_count": null,
   "id": "b231261d",
   "metadata": {},
   "outputs": [],
   "source": []
  },
  {
   "cell_type": "markdown",
   "id": "a51a247e",
   "metadata": {},
   "source": [
    "#### Does taking alcohol causes diabetes? "
   ]
  },
  {
   "cell_type": "code",
   "execution_count": 199,
   "id": "74e28562",
   "metadata": {},
   "outputs": [],
   "source": [
    "diabetes_alcohol = df[['Diabetes','Alcoholism']].groupby('Alcoholism')"
   ]
  },
  {
   "cell_type": "code",
   "execution_count": 200,
   "id": "90c65983",
   "metadata": {},
   "outputs": [
    {
     "data": {
      "image/png": "[encoded data removed]",
      "text/plain": [
       "<Figure size 432x288 with 1 Axes>"
      ]
     },
     "metadata": {
      "needs_background": "light"
     },
     "output_type": "display_data"
    }
   ],
   "source": [
    "diabetes_alcohol.get_group(0)['Diabetes'].value_counts().plot(kind='bar',label = 'Diabetes Status');\n",
    "plt.xlabel('Diabetes Status')\n",
    "plt.ylabel('Number of Non-Alcoholics')\n",
    "plt.legend()\n",
    "plt.title('Number of Non-Alcoholics Vs Diabetes Status');"
   ]
  },
  {
   "cell_type": "code",
   "execution_count": 201,
   "id": "06947ab6",
   "metadata": {},
   "outputs": [
    {
     "data": {
      "image/png": "[encoded data removed]",
      "text/plain": [
       "<Figure size 432x288 with 1 Axes>"
      ]
     },
     "metadata": {
      "needs_background": "light"
     },
     "output_type": "display_data"
    }
   ],
   "source": [
    "diabetes_alcohol.get_group(1)['Diabetes'].value_counts().plot(kind='bar',label = 'Diabetes Status');\n",
    "plt.xlabel('Diabetes Status')\n",
    "plt.ylabel('Number of Alcoholics')\n",
    "plt.legend()\n",
    "plt.title('Number of Alcoholics Vs Diabetes Status');"
   ]
  },
  {
   "cell_type": "markdown",
   "id": "89cee852",
   "metadata": {},
   "source": [
    "Taking alcohol does not lead to diabetes"
   ]
  },
  {
   "cell_type": "code",
   "execution_count": null,
   "id": "09b3f72e",
   "metadata": {},
   "outputs": [],
   "source": []
  },
  {
   "cell_type": "markdown",
   "id": "e4d770aa",
   "metadata": {},
   "source": [
    "#### Does taking alcohol lead to hypertension?"
   ]
  },
  {
   "cell_type": "code",
   "execution_count": 202,
   "id": "4c36cb4c",
   "metadata": {},
   "outputs": [],
   "source": [
    "hyper_alcohol = df[['Hypertension','Alcoholism']].groupby('Alcoholism')"
   ]
  },
  {
   "cell_type": "code",
   "execution_count": 205,
   "id": "b7129812",
   "metadata": {},
   "outputs": [
    {
     "data": {
      "image/png": "[encoded data removed]",
      "text/plain": [
       "<Figure size 432x288 with 1 Axes>"
      ]
     },
     "metadata": {
      "needs_background": "light"
     },
     "output_type": "display_data"
    }
   ],
   "source": [
    "hyper_alcohol.get_group(0)['Hypertension'].value_counts().plot(kind='bar',label = 'Hypertension Status');\n",
    "plt.xlabel('Hypertension Status')\n",
    "plt.ylabel('Number of Non-Alcoholics')\n",
    "plt.legend()\n",
    "plt.title('Number of Non-Alcoholics Vs Hypertension Status');"
   ]
  },
  {
   "cell_type": "code",
   "execution_count": 206,
   "id": "cafed1a3",
   "metadata": {
    "scrolled": true
   },
   "outputs": [
    {
     "data": {
      "image/png": "[encoded data removed]",
      "text/plain": [
       "<Figure size 432x288 with 1 Axes>"
      ]
     },
     "metadata": {
      "needs_background": "light"
     },
     "output_type": "display_data"
    }
   ],
   "source": [
    "hyper_alcohol.get_group(1)['Hypertension'].value_counts().plot(kind='bar',label = 'Hypertension Status');\n",
    "plt.xlabel('Hypertension Status')\n",
    "plt.ylabel('Number of Alcoholics')\n",
    "plt.legend()\n",
    "plt.title('Number of Alcoholics Vs Hypertension Status');"
   ]
  },
  {
   "cell_type": "markdown",
   "id": "cef2d06f",
   "metadata": {},
   "source": [
    " Taking Alcohol increases the chances of having hypertension"
   ]
  },
  {
   "cell_type": "markdown",
   "id": "2dfa03e2",
   "metadata": {},
   "source": [
    "#### Are patients with hypertension and diabetes likely to miss an appointment?"
   ]
  },
  {
   "cell_type": "code",
   "execution_count": 228,
   "id": "9ce905ca",
   "metadata": {},
   "outputs": [],
   "source": [
    "hyper_dia_miss = df[['Hypertension','Diabetes','No-show']].groupby('No-show')\n",
    "hyper_dia = hyper_dia_miss.get_group('Yes')[['Hypertension','Diabetes']]"
   ]
  },
  {
   "cell_type": "code",
   "execution_count": 214,
   "id": "3dc692bc",
   "metadata": {},
   "outputs": [
    {
     "data": {
      "image/png": "[encoded data removed]",
      "text/plain": [
       "<Figure size 432x288 with 1 Axes>"
      ]
     },
     "metadata": {
      "needs_background": "light"
     },
     "output_type": "display_data"
    }
   ],
   "source": [
    "plt.hist(hyper_dia.Diabetes[hyper_dia.Hypertension == 1],facecolor='b',label = 'Hypertensive')\n",
    "plt.hist(hyper_dia.Diabetes[hyper_dia.Hypertension == 0],facecolor='g',label = 'Monotensive')\n",
    "plt.xlabel('Hypertension and Diabetes Status')\n",
    "plt.ylabel('Number of Missing Appointment')\n",
    "plt.legend()\n",
    "plt.title('Number of Missing Appointment Vs Hypertension and Diabetes Status');"
   ]
  },
  {
   "cell_type": "markdown",
   "id": "6fd749e7",
   "metadata": {},
   "source": [
    "Patients suffering from hypertension and diabetes does not determine the patients availability for an appointment"
   ]
  },
  {
   "cell_type": "markdown",
   "id": "65082b7a",
   "metadata": {},
   "source": [
    "#### Top Ten Neighbourhood That Miss Their Appointments"
   ]
  },
  {
   "cell_type": "code",
   "execution_count": 220,
   "id": "d20c9acc",
   "metadata": {},
   "outputs": [],
   "source": [
    "Neigh_Nos = df[['No-show','Neighbourhood']].groupby('No-show').head()"
   ]
  },
  {
   "cell_type": "code",
   "execution_count": 216,
   "id": "f3adea63",
   "metadata": {},
   "outputs": [
    {
     "data": {
      "text/plain": [
       "JARDIM CAMBURI       1465\n",
       "MARIA ORTIZ          1219\n",
       "ITARARÉ               923\n",
       "RESISTÊNCIA           906\n",
       "CENTRO                703\n",
       "JESUS DE NAZARETH     696\n",
       "JARDIM DA PENHA       631\n",
       "CARATOÍRA             591\n",
       "TABUAZEIRO            573\n",
       "BONFIM                550\n",
       "Name: Neighbourhood, dtype: int64"
      ]
     },
     "execution_count": 216,
     "metadata": {},
     "output_type": "execute_result"
    }
   ],
   "source": [
    "Neigh_Nos.get_group('Yes')['Neighbourhood'].value_counts().head(10)"
   ]
  },
  {
   "cell_type": "code",
   "execution_count": 217,
   "id": "95f3a214",
   "metadata": {},
   "outputs": [
    {
     "data": {
      "text/plain": [
       "JARDIM CAMBURI     6252\n",
       "MARIA ORTIZ        4586\n",
       "RESISTÊNCIA        3525\n",
       "JARDIM DA PENHA    3246\n",
       "SANTA MARTHA       2635\n",
       "CENTRO             2631\n",
       "ITARARÉ            2591\n",
       "TABUAZEIRO         2559\n",
       "SANTO ANTÔNIO      2262\n",
       "BONFIM             2223\n",
       "Name: Neighbourhood, dtype: int64"
      ]
     },
     "execution_count": 217,
     "metadata": {},
     "output_type": "execute_result"
    }
   ],
   "source": [
    "Neigh_Nos.get_group('No')['Neighbourhood'].value_counts().head(10)"
   ]
  },
  {
   "cell_type": "markdown",
   "id": "d7804deb",
   "metadata": {},
   "source": [
    " From the analysis above it can be deduced that more people in each neighbourhood missed their appointments."
   ]
  },
  {
   "cell_type": "markdown",
   "id": "3ef8f0bc",
   "metadata": {},
   "source": [
    "#### What Neighbourhoods are the most populous?"
   ]
  },
  {
   "cell_type": "code",
   "execution_count": 222,
   "id": "a1afdf02",
   "metadata": {},
   "outputs": [
    {
     "data": {
      "text/plain": [
       "JARDIM CAMBURI                 0.069821\n",
       "MARIA ORTIZ                    0.052522\n",
       "RESISTÊNCIA                    0.040090\n",
       "JARDIM DA PENHA                0.035078\n",
       "ITARARÉ                        0.031793\n",
       "                                 ...   \n",
       "ILHA DO BOI                    0.000317\n",
       "ILHA DO FRADE                  0.000090\n",
       "AEROPORTO                      0.000072\n",
       "ILHAS OCEÂNICAS DE TRINDADE    0.000018\n",
       "PARQUE INDUSTRIAL              0.000009\n",
       "Name: Neighbourhood, Length: 81, dtype: float64"
      ]
     },
     "execution_count": 222,
     "metadata": {},
     "output_type": "execute_result"
    }
   ],
   "source": [
    "df['Neighbourhood'].value_counts(normalize=True)"
   ]
  },
  {
   "cell_type": "code",
   "execution_count": 223,
   "id": "104b91ad",
   "metadata": {},
   "outputs": [
    {
     "data": {
      "text/plain": [
       "JARDIM CAMBURI       7717\n",
       "MARIA ORTIZ          5805\n",
       "RESISTÊNCIA          4431\n",
       "JARDIM DA PENHA      3877\n",
       "ITARARÉ              3514\n",
       "CENTRO               3334\n",
       "TABUAZEIRO           3132\n",
       "SANTA MARTHA         3131\n",
       "JESUS DE NAZARETH    2853\n",
       "BONFIM               2773\n",
       "SANTO ANTÔNIO        2746\n",
       "SANTO ANDRÉ          2571\n",
       "CARATOÍRA            2565\n",
       "JABOUR               2509\n",
       "SÃO PEDRO            2448\n",
       "Name: Neighbourhood, dtype: int64"
      ]
     },
     "execution_count": 223,
     "metadata": {},
     "output_type": "execute_result"
    }
   ],
   "source": [
    "df['Neighbourhood'].value_counts().head(15)"
   ]
  },
  {
   "cell_type": "code",
   "execution_count": 224,
   "id": "a894c9fa",
   "metadata": {
    "scrolled": true
   },
   "outputs": [
    {
     "data": {
      "text/plain": [
       "ANTÔNIO HONÓRIO                271\n",
       "FRADINHOS                      258\n",
       "ENSEADA DO SUÁ                 235\n",
       "SANTA HELENA                   178\n",
       "HORTO                          175\n",
       "UNIVERSITÁRIO                  152\n",
       "SEGURANÇA DO LAR               145\n",
       "NAZARETH                       135\n",
       "MORADA DE CAMBURI               96\n",
       "PONTAL DE CAMBURI               69\n",
       "ILHA DO BOI                     35\n",
       "ILHA DO FRADE                   10\n",
       "AEROPORTO                        8\n",
       "ILHAS OCEÂNICAS DE TRINDADE      2\n",
       "PARQUE INDUSTRIAL                1\n",
       "Name: Neighbourhood, dtype: int64"
      ]
     },
     "execution_count": 224,
     "metadata": {},
     "output_type": "execute_result"
    }
   ],
   "source": [
    "df['Neighbourhood'].value_counts().tail(15)"
   ]
  },
  {
   "cell_type": "markdown",
   "id": "a34e4064",
   "metadata": {},
   "source": [
    "#### Which Neighbourhood has the highest number of Alcoholics?"
   ]
  },
  {
   "cell_type": "code",
   "execution_count": 225,
   "id": "c91d619b",
   "metadata": {},
   "outputs": [],
   "source": [
    "neigh_alcohol = df[['Alcoholism','Neighbourhood']].groupby('Alcoholism')"
   ]
  },
  {
   "cell_type": "code",
   "execution_count": 226,
   "id": "1f8e1479",
   "metadata": {},
   "outputs": [
    {
     "data": {
      "text/plain": [
       "SANTA MARTHA    344\n",
       "Name: Neighbourhood, dtype: int64"
      ]
     },
     "execution_count": 226,
     "metadata": {},
     "output_type": "execute_result"
    }
   ],
   "source": [
    "neigh_alcohol.get_group(1)['Neighbourhood'].value_counts().head(1)"
   ]
  },
  {
   "cell_type": "markdown",
   "id": "81601d12",
   "metadata": {},
   "source": [
    "Santa Martha has the highest number of Alcoholics"
   ]
  },
  {
   "cell_type": "markdown",
   "id": "58dfd3d7",
   "metadata": {},
   "source": [
    "<a id='conclusions'></a>\n",
    "### Conclusions:\n"
   ]
  },
  {
   "cell_type": "markdown",
   "id": "6c8caff7",
   "metadata": {},
   "source": [
    "#### From the above analysis, it can be concluded that:\n",
    "1. The gender, age group, scholarship status, hypertension status and diabetest status contribute to the factors affecting patient availability for an appointment.\n",
    "2. The age group and diabetes status largely contributes to the scholarship status of patients"
   ]
  },
  {
   "cell_type": "markdown",
   "id": "489f10bd",
   "metadata": {},
   "source": [
    "#### Limitations\n",
    "1. The dataset is imbalance for most of the categorical variables.\n",
    "2. The dataset starts towards the end of March and very early in May which makes it difficult to have a clearer picture of the average appointment per month."
   ]
  },
  {
   "cell_type": "code",
   "execution_count": 227,
   "id": "601b0a83",
   "metadata": {},
   "outputs": [
    {
     "data": {
      "text/plain": [
       "1"
      ]
     },
     "execution_count": 227,
     "metadata": {},
     "output_type": "execute_result"
    }
   ],
   "source": [
    "from subprocess import call\n",
    "call(['python', '-m', 'nbconvert', 'No_Show_Appointment.ipynb'])"
   ]
  },
  {
   "cell_type": "code",
   "execution_count": null,
   "id": "bfa86e58",
   "metadata": {},
   "outputs": [],
   "source": []
  }
 ],
 "metadata": {
  "kernelspec": {
   "display_name": "Python 3 (ipykernel)",
   "language": "python",
   "name": "python3"
  },
  "language_info": {
   "codemirror_mode": {
    "name": "ipython",
    "version": 3
   },
   "file_extension": ".py",
   "mimetype": "text/x-python",
   "name": "python",
   "nbconvert_exporter": "python",
   "pygments_lexer": "ipython3",
   "version": "3.9.7"
  }
 },
 "nbformat": 4,
 "nbformat_minor": 5
}
