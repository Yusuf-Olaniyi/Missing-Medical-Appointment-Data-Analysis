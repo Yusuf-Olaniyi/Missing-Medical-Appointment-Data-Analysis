{
 "cells": [
  {
   "cell_type": "markdown",
   "id": "366cd56c",
   "metadata": {},
   "source": []
  },
  {
   "cell_type": "code",
   "execution_count": 106,
   "id": "ba6cb7bc",
   "metadata": {},
   "outputs": [],
   "source": [
    "import pandas as pd\n",
    "import matplotlib.pyplot as plt\n",
    "import seaborn as sns"
   ]
  },
  {
   "cell_type": "code",
   "execution_count": 107,
   "id": "b647ce80",
   "metadata": {},
   "outputs": [],
   "source": [
    "df = pd.read_csv('noshowappointments-kagglev2-may-2016.csv')"
   ]
  },
  {
   "cell_type": "code",
   "execution_count": 108,
   "id": "286f06b3",
   "metadata": {},
   "outputs": [
    {
     "data": {
      "text/html": [
       "<div>\n",
       "<style scoped>\n",
       "    .dataframe tbody tr th:only-of-type {\n",
       "        vertical-align: middle;\n",
       "    }\n",
       "\n",
       "    .dataframe tbody tr th {\n",
       "        vertical-align: top;\n",
       "    }\n",
       "\n",
       "    .dataframe thead th {\n",
       "        text-align: right;\n",
       "    }\n",
       "</style>\n",
       "<table border=\"1\" class=\"dataframe\">\n",
       "  <thead>\n",
       "    <tr style=\"text-align: right;\">\n",
       "      <th></th>\n",
       "      <th>PatientId</th>\n",
       "      <th>AppointmentID</th>\n",
       "      <th>Gender</th>\n",
       "      <th>ScheduledDay</th>\n",
       "      <th>AppointmentDay</th>\n",
       "      <th>Age</th>\n",
       "      <th>Neighbourhood</th>\n",
       "      <th>Scholarship</th>\n",
       "      <th>Hipertension</th>\n",
       "      <th>Diabetes</th>\n",
       "      <th>Alcoholism</th>\n",
       "      <th>Handcap</th>\n",
       "      <th>SMS_received</th>\n",
       "      <th>No-show</th>\n",
       "    </tr>\n",
       "  </thead>\n",
       "  <tbody>\n",
       "    <tr>\n",
       "      <th>0</th>\n",
       "      <td>2.987250e+13</td>\n",
       "      <td>5642903</td>\n",
       "      <td>F</td>\n",
       "      <td>2016-04-29T18:38:08Z</td>\n",
       "      <td>2016-04-29T00:00:00Z</td>\n",
       "      <td>62</td>\n",
       "      <td>JARDIM DA PENHA</td>\n",
       "      <td>0</td>\n",
       "      <td>1</td>\n",
       "      <td>0</td>\n",
       "      <td>0</td>\n",
       "      <td>0</td>\n",
       "      <td>0</td>\n",
       "      <td>No</td>\n",
       "    </tr>\n",
       "    <tr>\n",
       "      <th>1</th>\n",
       "      <td>5.589978e+14</td>\n",
       "      <td>5642503</td>\n",
       "      <td>M</td>\n",
       "      <td>2016-04-29T16:08:27Z</td>\n",
       "      <td>2016-04-29T00:00:00Z</td>\n",
       "      <td>56</td>\n",
       "      <td>JARDIM DA PENHA</td>\n",
       "      <td>0</td>\n",
       "      <td>0</td>\n",
       "      <td>0</td>\n",
       "      <td>0</td>\n",
       "      <td>0</td>\n",
       "      <td>0</td>\n",
       "      <td>No</td>\n",
       "    </tr>\n",
       "    <tr>\n",
       "      <th>2</th>\n",
       "      <td>4.262962e+12</td>\n",
       "      <td>5642549</td>\n",
       "      <td>F</td>\n",
       "      <td>2016-04-29T16:19:04Z</td>\n",
       "      <td>2016-04-29T00:00:00Z</td>\n",
       "      <td>62</td>\n",
       "      <td>MATA DA PRAIA</td>\n",
       "      <td>0</td>\n",
       "      <td>0</td>\n",
       "      <td>0</td>\n",
       "      <td>0</td>\n",
       "      <td>0</td>\n",
       "      <td>0</td>\n",
       "      <td>No</td>\n",
       "    </tr>\n",
       "    <tr>\n",
       "      <th>3</th>\n",
       "      <td>8.679512e+11</td>\n",
       "      <td>5642828</td>\n",
       "      <td>F</td>\n",
       "      <td>2016-04-29T17:29:31Z</td>\n",
       "      <td>2016-04-29T00:00:00Z</td>\n",
       "      <td>8</td>\n",
       "      <td>PONTAL DE CAMBURI</td>\n",
       "      <td>0</td>\n",
       "      <td>0</td>\n",
       "      <td>0</td>\n",
       "      <td>0</td>\n",
       "      <td>0</td>\n",
       "      <td>0</td>\n",
       "      <td>No</td>\n",
       "    </tr>\n",
       "    <tr>\n",
       "      <th>4</th>\n",
       "      <td>8.841186e+12</td>\n",
       "      <td>5642494</td>\n",
       "      <td>F</td>\n",
       "      <td>2016-04-29T16:07:23Z</td>\n",
       "      <td>2016-04-29T00:00:00Z</td>\n",
       "      <td>56</td>\n",
       "      <td>JARDIM DA PENHA</td>\n",
       "      <td>0</td>\n",
       "      <td>1</td>\n",
       "      <td>1</td>\n",
       "      <td>0</td>\n",
       "      <td>0</td>\n",
       "      <td>0</td>\n",
       "      <td>No</td>\n",
       "    </tr>\n",
       "  </tbody>\n",
       "</table>\n",
       "</div>"
      ],
      "text/plain": [
       "      PatientId  AppointmentID Gender          ScheduledDay  \\\n",
       "0  2.987250e+13        5642903      F  2016-04-29T18:38:08Z   \n",
       "1  5.589978e+14        5642503      M  2016-04-29T16:08:27Z   \n",
       "2  4.262962e+12        5642549      F  2016-04-29T16:19:04Z   \n",
       "3  8.679512e+11        5642828      F  2016-04-29T17:29:31Z   \n",
       "4  8.841186e+12        5642494      F  2016-04-29T16:07:23Z   \n",
       "\n",
       "         AppointmentDay  Age      Neighbourhood  Scholarship  Hipertension  \\\n",
       "0  2016-04-29T00:00:00Z   62    JARDIM DA PENHA            0             1   \n",
       "1  2016-04-29T00:00:00Z   56    JARDIM DA PENHA            0             0   \n",
       "2  2016-04-29T00:00:00Z   62      MATA DA PRAIA            0             0   \n",
       "3  2016-04-29T00:00:00Z    8  PONTAL DE CAMBURI            0             0   \n",
       "4  2016-04-29T00:00:00Z   56    JARDIM DA PENHA            0             1   \n",
       "\n",
       "   Diabetes  Alcoholism  Handcap  SMS_received No-show  \n",
       "0         0           0        0             0      No  \n",
       "1         0           0        0             0      No  \n",
       "2         0           0        0             0      No  \n",
       "3         0           0        0             0      No  \n",
       "4         1           0        0             0      No  "
      ]
     },
     "execution_count": 108,
     "metadata": {},
     "output_type": "execute_result"
    }
   ],
   "source": [
    "df.head()"
   ]
  },
  {
   "cell_type": "code",
   "execution_count": 109,
   "id": "accee5f7",
   "metadata": {},
   "outputs": [
    {
     "data": {
      "text/plain": [
       "(110527, 14)"
      ]
     },
     "execution_count": 109,
     "metadata": {},
     "output_type": "execute_result"
    }
   ],
   "source": [
    "df.shape"
   ]
  },
  {
   "cell_type": "code",
   "execution_count": 110,
   "id": "9f93cd43",
   "metadata": {},
   "outputs": [
    {
     "name": "stdout",
     "output_type": "stream",
     "text": [
      "<class 'pandas.core.frame.DataFrame'>\n",
      "RangeIndex: 110527 entries, 0 to 110526\n",
      "Data columns (total 14 columns):\n",
      " #   Column          Non-Null Count   Dtype  \n",
      "---  ------          --------------   -----  \n",
      " 0   PatientId       110527 non-null  float64\n",
      " 1   AppointmentID   110527 non-null  int64  \n",
      " 2   Gender          110527 non-null  object \n",
      " 3   ScheduledDay    110527 non-null  object \n",
      " 4   AppointmentDay  110527 non-null  object \n",
      " 5   Age             110527 non-null  int64  \n",
      " 6   Neighbourhood   110527 non-null  object \n",
      " 7   Scholarship     110527 non-null  int64  \n",
      " 8   Hipertension    110527 non-null  int64  \n",
      " 9   Diabetes        110527 non-null  int64  \n",
      " 10  Alcoholism      110527 non-null  int64  \n",
      " 11  Handcap         110527 non-null  int64  \n",
      " 12  SMS_received    110527 non-null  int64  \n",
      " 13  No-show         110527 non-null  object \n",
      "dtypes: float64(1), int64(8), object(5)\n",
      "memory usage: 11.8+ MB\n"
     ]
    }
   ],
   "source": [
    "df.info()"
   ]
  },
  {
   "cell_type": "code",
   "execution_count": 111,
   "id": "47a1fb52",
   "metadata": {},
   "outputs": [
    {
     "data": {
      "text/plain": [
       "Gender                 2\n",
       "Scholarship            2\n",
       "Hipertension           2\n",
       "Diabetes               2\n",
       "Alcoholism             2\n",
       "SMS_received           2\n",
       "No-show                2\n",
       "Handcap                5\n",
       "AppointmentDay        27\n",
       "Neighbourhood         81\n",
       "Age                  104\n",
       "PatientId          62299\n",
       "ScheduledDay      103549\n",
       "AppointmentID     110527\n",
       "dtype: int64"
      ]
     },
     "execution_count": 111,
     "metadata": {},
     "output_type": "execute_result"
    }
   ],
   "source": [
    "df.nunique().sort_values()"
   ]
  },
  {
   "cell_type": "code",
   "execution_count": 112,
   "id": "47173e4a",
   "metadata": {},
   "outputs": [],
   "source": [
    "df.rename(columns={'Hipertension':'Hypertension','Handcap':'Handicap'},inplace=True)"
   ]
  },
  {
   "cell_type": "markdown",
   "id": "71dde1e6",
   "metadata": {},
   "source": [
    "### Renaming the Hipertension and Handcap Columns"
   ]
  },
  {
   "cell_type": "code",
   "execution_count": 113,
   "id": "3ce74d04",
   "metadata": {
    "scrolled": true
   },
   "outputs": [
    {
     "data": {
      "text/html": [
       "<div>\n",
       "<style scoped>\n",
       "    .dataframe tbody tr th:only-of-type {\n",
       "        vertical-align: middle;\n",
       "    }\n",
       "\n",
       "    .dataframe tbody tr th {\n",
       "        vertical-align: top;\n",
       "    }\n",
       "\n",
       "    .dataframe thead th {\n",
       "        text-align: right;\n",
       "    }\n",
       "</style>\n",
       "<table border=\"1\" class=\"dataframe\">\n",
       "  <thead>\n",
       "    <tr style=\"text-align: right;\">\n",
       "      <th></th>\n",
       "      <th>PatientId</th>\n",
       "      <th>AppointmentID</th>\n",
       "      <th>Gender</th>\n",
       "      <th>ScheduledDay</th>\n",
       "      <th>AppointmentDay</th>\n",
       "      <th>Age</th>\n",
       "      <th>Neighbourhood</th>\n",
       "      <th>Scholarship</th>\n",
       "      <th>Hypertension</th>\n",
       "      <th>Diabetes</th>\n",
       "      <th>Alcoholism</th>\n",
       "      <th>Handicap</th>\n",
       "      <th>SMS_received</th>\n",
       "      <th>No-show</th>\n",
       "    </tr>\n",
       "  </thead>\n",
       "  <tbody>\n",
       "    <tr>\n",
       "      <th>0</th>\n",
       "      <td>2.987250e+13</td>\n",
       "      <td>5642903</td>\n",
       "      <td>F</td>\n",
       "      <td>2016-04-29T18:38:08Z</td>\n",
       "      <td>2016-04-29T00:00:00Z</td>\n",
       "      <td>62</td>\n",
       "      <td>JARDIM DA PENHA</td>\n",
       "      <td>0</td>\n",
       "      <td>1</td>\n",
       "      <td>0</td>\n",
       "      <td>0</td>\n",
       "      <td>0</td>\n",
       "      <td>0</td>\n",
       "      <td>No</td>\n",
       "    </tr>\n",
       "    <tr>\n",
       "      <th>1</th>\n",
       "      <td>5.589978e+14</td>\n",
       "      <td>5642503</td>\n",
       "      <td>M</td>\n",
       "      <td>2016-04-29T16:08:27Z</td>\n",
       "      <td>2016-04-29T00:00:00Z</td>\n",
       "      <td>56</td>\n",
       "      <td>JARDIM DA PENHA</td>\n",
       "      <td>0</td>\n",
       "      <td>0</td>\n",
       "      <td>0</td>\n",
       "      <td>0</td>\n",
       "      <td>0</td>\n",
       "      <td>0</td>\n",
       "      <td>No</td>\n",
       "    </tr>\n",
       "    <tr>\n",
       "      <th>2</th>\n",
       "      <td>4.262962e+12</td>\n",
       "      <td>5642549</td>\n",
       "      <td>F</td>\n",
       "      <td>2016-04-29T16:19:04Z</td>\n",
       "      <td>2016-04-29T00:00:00Z</td>\n",
       "      <td>62</td>\n",
       "      <td>MATA DA PRAIA</td>\n",
       "      <td>0</td>\n",
       "      <td>0</td>\n",
       "      <td>0</td>\n",
       "      <td>0</td>\n",
       "      <td>0</td>\n",
       "      <td>0</td>\n",
       "      <td>No</td>\n",
       "    </tr>\n",
       "    <tr>\n",
       "      <th>3</th>\n",
       "      <td>8.679512e+11</td>\n",
       "      <td>5642828</td>\n",
       "      <td>F</td>\n",
       "      <td>2016-04-29T17:29:31Z</td>\n",
       "      <td>2016-04-29T00:00:00Z</td>\n",
       "      <td>8</td>\n",
       "      <td>PONTAL DE CAMBURI</td>\n",
       "      <td>0</td>\n",
       "      <td>0</td>\n",
       "      <td>0</td>\n",
       "      <td>0</td>\n",
       "      <td>0</td>\n",
       "      <td>0</td>\n",
       "      <td>No</td>\n",
       "    </tr>\n",
       "    <tr>\n",
       "      <th>4</th>\n",
       "      <td>8.841186e+12</td>\n",
       "      <td>5642494</td>\n",
       "      <td>F</td>\n",
       "      <td>2016-04-29T16:07:23Z</td>\n",
       "      <td>2016-04-29T00:00:00Z</td>\n",
       "      <td>56</td>\n",
       "      <td>JARDIM DA PENHA</td>\n",
       "      <td>0</td>\n",
       "      <td>1</td>\n",
       "      <td>1</td>\n",
       "      <td>0</td>\n",
       "      <td>0</td>\n",
       "      <td>0</td>\n",
       "      <td>No</td>\n",
       "    </tr>\n",
       "  </tbody>\n",
       "</table>\n",
       "</div>"
      ],
      "text/plain": [
       "      PatientId  AppointmentID Gender          ScheduledDay  \\\n",
       "0  2.987250e+13        5642903      F  2016-04-29T18:38:08Z   \n",
       "1  5.589978e+14        5642503      M  2016-04-29T16:08:27Z   \n",
       "2  4.262962e+12        5642549      F  2016-04-29T16:19:04Z   \n",
       "3  8.679512e+11        5642828      F  2016-04-29T17:29:31Z   \n",
       "4  8.841186e+12        5642494      F  2016-04-29T16:07:23Z   \n",
       "\n",
       "         AppointmentDay  Age      Neighbourhood  Scholarship  Hypertension  \\\n",
       "0  2016-04-29T00:00:00Z   62    JARDIM DA PENHA            0             1   \n",
       "1  2016-04-29T00:00:00Z   56    JARDIM DA PENHA            0             0   \n",
       "2  2016-04-29T00:00:00Z   62      MATA DA PRAIA            0             0   \n",
       "3  2016-04-29T00:00:00Z    8  PONTAL DE CAMBURI            0             0   \n",
       "4  2016-04-29T00:00:00Z   56    JARDIM DA PENHA            0             1   \n",
       "\n",
       "   Diabetes  Alcoholism  Handicap  SMS_received No-show  \n",
       "0         0           0         0             0      No  \n",
       "1         0           0         0             0      No  \n",
       "2         0           0         0             0      No  \n",
       "3         0           0         0             0      No  \n",
       "4         1           0         0             0      No  "
      ]
     },
     "execution_count": 113,
     "metadata": {},
     "output_type": "execute_result"
    }
   ],
   "source": [
    "df.head()"
   ]
  },
  {
   "cell_type": "markdown",
   "id": "85fe09cc",
   "metadata": {},
   "source": [
    "### Univariate Analysis"
   ]
  },
  {
   "cell_type": "code",
   "execution_count": 114,
   "id": "2d7b6e75",
   "metadata": {},
   "outputs": [
    {
     "data": {
      "text/plain": [
       "count    110527.000000\n",
       "mean         37.088874\n",
       "std          23.110205\n",
       "min          -1.000000\n",
       "25%          18.000000\n",
       "50%          37.000000\n",
       "75%          55.000000\n",
       "max         115.000000\n",
       "Name: Age, dtype: float64"
      ]
     },
     "execution_count": 114,
     "metadata": {},
     "output_type": "execute_result"
    }
   ],
   "source": [
    "df.Age.describe()"
   ]
  },
  {
   "cell_type": "markdown",
   "id": "f854985f",
   "metadata": {},
   "source": [
    "### Removing Age with < 0"
   ]
  },
  {
   "cell_type": "code",
   "execution_count": 115,
   "id": "3a69fabc",
   "metadata": {},
   "outputs": [],
   "source": [
    "n_index = df[df['Age'] < 0].index"
   ]
  },
  {
   "cell_type": "code",
   "execution_count": 116,
   "id": "ff8f0e11",
   "metadata": {},
   "outputs": [],
   "source": [
    "df.drop(index=n_index,inplace=True)"
   ]
  },
  {
   "cell_type": "code",
   "execution_count": 117,
   "id": "8cc75280",
   "metadata": {},
   "outputs": [
    {
     "data": {
      "text/plain": [
       "(110526, 14)"
      ]
     },
     "execution_count": 117,
     "metadata": {},
     "output_type": "execute_result"
    }
   ],
   "source": [
    "df.shape"
   ]
  },
  {
   "cell_type": "code",
   "execution_count": 118,
   "id": "ff06d0cd",
   "metadata": {},
   "outputs": [
    {
     "data": {
      "text/plain": [
       "count    110526.000000\n",
       "mean         37.089219\n",
       "std          23.110026\n",
       "min           0.000000\n",
       "25%          18.000000\n",
       "50%          37.000000\n",
       "75%          55.000000\n",
       "max         115.000000\n",
       "Name: Age, dtype: float64"
      ]
     },
     "execution_count": 118,
     "metadata": {},
     "output_type": "execute_result"
    }
   ],
   "source": [
    "df.Age.describe()"
   ]
  },
  {
   "cell_type": "code",
   "execution_count": null,
   "id": "b1f2166a",
   "metadata": {},
   "outputs": [],
   "source": []
  },
  {
   "cell_type": "code",
   "execution_count": 119,
   "id": "63ca3cce",
   "metadata": {},
   "outputs": [
    {
     "data": {
      "text/plain": [
       "0    2016-04-29T00:00:00Z\n",
       "1    2016-04-29T00:00:00Z\n",
       "2    2016-04-29T00:00:00Z\n",
       "3    2016-04-29T00:00:00Z\n",
       "4    2016-04-29T00:00:00Z\n",
       "Name: AppointmentDay, dtype: object"
      ]
     },
     "execution_count": 119,
     "metadata": {},
     "output_type": "execute_result"
    }
   ],
   "source": [
    "df['AppointmentDay'].head()"
   ]
  },
  {
   "cell_type": "code",
   "execution_count": 120,
   "id": "ba36791e",
   "metadata": {},
   "outputs": [
    {
     "data": {
      "text/plain": [
       "110522    2016-06-07T00:00:00Z\n",
       "110523    2016-06-07T00:00:00Z\n",
       "110524    2016-06-07T00:00:00Z\n",
       "110525    2016-06-07T00:00:00Z\n",
       "110526    2016-06-07T00:00:00Z\n",
       "Name: AppointmentDay, dtype: object"
      ]
     },
     "execution_count": 120,
     "metadata": {},
     "output_type": "execute_result"
    }
   ],
   "source": [
    "df['AppointmentDay'].tail()"
   ]
  },
  {
   "cell_type": "code",
   "execution_count": null,
   "id": "29538ac8",
   "metadata": {},
   "outputs": [],
   "source": []
  },
  {
   "cell_type": "code",
   "execution_count": 121,
   "id": "41165391",
   "metadata": {},
   "outputs": [
    {
     "data": {
      "text/plain": [
       "array([0, 1], dtype=int64)"
      ]
     },
     "execution_count": 121,
     "metadata": {},
     "output_type": "execute_result"
    }
   ],
   "source": [
    "df['Alcoholism'].unique()"
   ]
  },
  {
   "cell_type": "code",
   "execution_count": 122,
   "id": "777c5abc",
   "metadata": {},
   "outputs": [
    {
     "data": {
      "text/plain": [
       "0    107166\n",
       "1      3360\n",
       "Name: Alcoholism, dtype: int64"
      ]
     },
     "execution_count": 122,
     "metadata": {},
     "output_type": "execute_result"
    }
   ],
   "source": [
    "df['Alcoholism'].value_counts()"
   ]
  },
  {
   "cell_type": "code",
   "execution_count": null,
   "id": "9b149540",
   "metadata": {},
   "outputs": [],
   "source": []
  },
  {
   "cell_type": "code",
   "execution_count": 123,
   "id": "7b1f309a",
   "metadata": {},
   "outputs": [
    {
     "data": {
      "text/plain": [
       "array([0, 1], dtype=int64)"
      ]
     },
     "execution_count": 123,
     "metadata": {},
     "output_type": "execute_result"
    }
   ],
   "source": [
    "df['Diabetes'].unique()"
   ]
  },
  {
   "cell_type": "code",
   "execution_count": 124,
   "id": "64c69afd",
   "metadata": {},
   "outputs": [
    {
     "data": {
      "text/plain": [
       "0    102583\n",
       "1      7943\n",
       "Name: Diabetes, dtype: int64"
      ]
     },
     "execution_count": 124,
     "metadata": {},
     "output_type": "execute_result"
    }
   ],
   "source": [
    "df[\"Diabetes\"].value_counts()"
   ]
  },
  {
   "cell_type": "code",
   "execution_count": null,
   "id": "8c5b1b8c",
   "metadata": {},
   "outputs": [],
   "source": []
  },
  {
   "cell_type": "code",
   "execution_count": 125,
   "id": "7f2edeb0",
   "metadata": {},
   "outputs": [
    {
     "data": {
      "text/plain": [
       "array(['F', 'M'], dtype=object)"
      ]
     },
     "execution_count": 125,
     "metadata": {},
     "output_type": "execute_result"
    }
   ],
   "source": [
    "df['Gender'].unique()"
   ]
  },
  {
   "cell_type": "code",
   "execution_count": 126,
   "id": "c22cd233",
   "metadata": {},
   "outputs": [
    {
     "data": {
      "text/plain": [
       "F    71839\n",
       "M    38687\n",
       "Name: Gender, dtype: int64"
      ]
     },
     "execution_count": 126,
     "metadata": {},
     "output_type": "execute_result"
    }
   ],
   "source": [
    "df['Gender'].value_counts()"
   ]
  },
  {
   "cell_type": "code",
   "execution_count": null,
   "id": "0cdfeb3b",
   "metadata": {},
   "outputs": [],
   "source": []
  },
  {
   "cell_type": "code",
   "execution_count": 127,
   "id": "71840d70",
   "metadata": {},
   "outputs": [
    {
     "data": {
      "text/plain": [
       "array([0, 1, 2, 3, 4], dtype=int64)"
      ]
     },
     "execution_count": 127,
     "metadata": {},
     "output_type": "execute_result"
    }
   ],
   "source": [
    "df['Handicap'].unique()"
   ]
  },
  {
   "cell_type": "code",
   "execution_count": 128,
   "id": "5493d5fd",
   "metadata": {},
   "outputs": [
    {
     "data": {
      "text/plain": [
       "0    108285\n",
       "1      2042\n",
       "2       183\n",
       "3        13\n",
       "4         3\n",
       "Name: Handicap, dtype: int64"
      ]
     },
     "execution_count": 128,
     "metadata": {},
     "output_type": "execute_result"
    }
   ],
   "source": [
    "df['Handicap'].value_counts()"
   ]
  },
  {
   "cell_type": "code",
   "execution_count": null,
   "id": "eaac5d72",
   "metadata": {},
   "outputs": [],
   "source": []
  },
  {
   "cell_type": "code",
   "execution_count": 129,
   "id": "45562bcb",
   "metadata": {},
   "outputs": [
    {
     "data": {
      "text/plain": [
       "array([1, 0], dtype=int64)"
      ]
     },
     "execution_count": 129,
     "metadata": {},
     "output_type": "execute_result"
    }
   ],
   "source": [
    "df['Hypertension'].unique()"
   ]
  },
  {
   "cell_type": "code",
   "execution_count": 130,
   "id": "589d5848",
   "metadata": {},
   "outputs": [
    {
     "data": {
      "text/plain": [
       "0    88725\n",
       "1    21801\n",
       "Name: Hypertension, dtype: int64"
      ]
     },
     "execution_count": 130,
     "metadata": {},
     "output_type": "execute_result"
    }
   ],
   "source": [
    "df['Hypertension'].value_counts()"
   ]
  },
  {
   "cell_type": "code",
   "execution_count": null,
   "id": "dcd3e005",
   "metadata": {},
   "outputs": [],
   "source": []
  },
  {
   "cell_type": "code",
   "execution_count": 131,
   "id": "1a04fe81",
   "metadata": {},
   "outputs": [
    {
     "data": {
      "text/plain": [
       "array(['JARDIM DA PENHA', 'MATA DA PRAIA', 'PONTAL DE CAMBURI',\n",
       "       'REPÚBLICA', 'GOIABEIRAS', 'ANDORINHAS', 'CONQUISTA',\n",
       "       'NOVA PALESTINA', 'DA PENHA', 'TABUAZEIRO', 'BENTO FERREIRA',\n",
       "       'SÃO PEDRO', 'SANTA MARTHA', 'SÃO CRISTÓVÃO', 'MARUÍPE',\n",
       "       'GRANDE VITÓRIA', 'SÃO BENEDITO', 'ILHA DAS CAIEIRAS',\n",
       "       'SANTO ANDRÉ', 'SOLON BORGES', 'BONFIM', 'JARDIM CAMBURI',\n",
       "       'MARIA ORTIZ', 'JABOUR', 'ANTÔNIO HONÓRIO', 'RESISTÊNCIA',\n",
       "       'ILHA DE SANTA MARIA', 'JUCUTUQUARA', 'MONTE BELO',\n",
       "       'MÁRIO CYPRESTE', 'SANTO ANTÔNIO', 'BELA VISTA', 'PRAIA DO SUÁ',\n",
       "       'SANTA HELENA', 'ITARARÉ', 'INHANGUETÁ', 'UNIVERSITÁRIO',\n",
       "       'SÃO JOSÉ', 'REDENÇÃO', 'SANTA CLARA', 'CENTRO', 'PARQUE MOSCOSO',\n",
       "       'DO MOSCOSO', 'SANTOS DUMONT', 'CARATOÍRA', 'ARIOVALDO FAVALESSA',\n",
       "       'ILHA DO FRADE', 'GURIGICA', 'JOANA D´ARC', 'CONSOLAÇÃO',\n",
       "       'PRAIA DO CANTO', 'BOA VISTA', 'MORADA DE CAMBURI', 'SANTA LUÍZA',\n",
       "       'SANTA LÚCIA', 'BARRO VERMELHO', 'ESTRELINHA', 'FORTE SÃO JOÃO',\n",
       "       'FONTE GRANDE', 'ENSEADA DO SUÁ', 'SANTOS REIS', 'PIEDADE',\n",
       "       'JESUS DE NAZARETH', 'SANTA TEREZA', 'CRUZAMENTO',\n",
       "       'ILHA DO PRÍNCIPE', 'ROMÃO', 'COMDUSA', 'SANTA CECÍLIA',\n",
       "       'VILA RUBIM', 'DE LOURDES', 'DO QUADRO', 'DO CABRAL', 'HORTO',\n",
       "       'SEGURANÇA DO LAR', 'ILHA DO BOI', 'FRADINHOS', 'NAZARETH',\n",
       "       'AEROPORTO', 'ILHAS OCEÂNICAS DE TRINDADE', 'PARQUE INDUSTRIAL'],\n",
       "      dtype=object)"
      ]
     },
     "execution_count": 131,
     "metadata": {},
     "output_type": "execute_result"
    }
   ],
   "source": [
    "df['Neighbourhood'].unique()"
   ]
  },
  {
   "cell_type": "code",
   "execution_count": 132,
   "id": "f24887e8",
   "metadata": {
    "scrolled": true
   },
   "outputs": [
    {
     "data": {
      "text/plain": [
       "JARDIM CAMBURI                 7717\n",
       "MARIA ORTIZ                    5805\n",
       "RESISTÊNCIA                    4431\n",
       "JARDIM DA PENHA                3877\n",
       "ITARARÉ                        3514\n",
       "                               ... \n",
       "ILHA DO BOI                      35\n",
       "ILHA DO FRADE                    10\n",
       "AEROPORTO                         8\n",
       "ILHAS OCEÂNICAS DE TRINDADE       2\n",
       "PARQUE INDUSTRIAL                 1\n",
       "Name: Neighbourhood, Length: 81, dtype: int64"
      ]
     },
     "execution_count": 132,
     "metadata": {},
     "output_type": "execute_result"
    }
   ],
   "source": [
    "df['Neighbourhood'].value_counts()"
   ]
  },
  {
   "cell_type": "code",
   "execution_count": null,
   "id": "7569947e",
   "metadata": {},
   "outputs": [],
   "source": []
  },
  {
   "cell_type": "code",
   "execution_count": 133,
   "id": "32be23d1",
   "metadata": {},
   "outputs": [
    {
     "data": {
      "text/plain": [
       "array([0, 1], dtype=int64)"
      ]
     },
     "execution_count": 133,
     "metadata": {},
     "output_type": "execute_result"
    }
   ],
   "source": [
    "df['SMS_received'].unique()"
   ]
  },
  {
   "cell_type": "code",
   "execution_count": 134,
   "id": "57eeb674",
   "metadata": {},
   "outputs": [
    {
     "data": {
      "text/plain": [
       "0    75044\n",
       "1    35482\n",
       "Name: SMS_received, dtype: int64"
      ]
     },
     "execution_count": 134,
     "metadata": {},
     "output_type": "execute_result"
    }
   ],
   "source": [
    "df['SMS_received'].value_counts()"
   ]
  },
  {
   "cell_type": "code",
   "execution_count": null,
   "id": "75ac6891",
   "metadata": {},
   "outputs": [],
   "source": []
  },
  {
   "cell_type": "code",
   "execution_count": 135,
   "id": "dc8abfc0",
   "metadata": {},
   "outputs": [
    {
     "data": {
      "text/plain": [
       "103548"
      ]
     },
     "execution_count": 135,
     "metadata": {},
     "output_type": "execute_result"
    }
   ],
   "source": [
    "df['ScheduledDay'].nunique()"
   ]
  },
  {
   "cell_type": "code",
   "execution_count": null,
   "id": "aff554b2",
   "metadata": {},
   "outputs": [],
   "source": []
  },
  {
   "cell_type": "code",
   "execution_count": 136,
   "id": "530aae48",
   "metadata": {},
   "outputs": [
    {
     "data": {
      "text/plain": [
       "array([0, 1], dtype=int64)"
      ]
     },
     "execution_count": 136,
     "metadata": {},
     "output_type": "execute_result"
    }
   ],
   "source": [
    "df['Scholarship'].unique()"
   ]
  },
  {
   "cell_type": "code",
   "execution_count": 137,
   "id": "22978bda",
   "metadata": {},
   "outputs": [
    {
     "data": {
      "text/plain": [
       "0    99665\n",
       "1    10861\n",
       "Name: Scholarship, dtype: int64"
      ]
     },
     "execution_count": 137,
     "metadata": {},
     "output_type": "execute_result"
    }
   ],
   "source": [
    "df['Scholarship'].value_counts()"
   ]
  },
  {
   "cell_type": "code",
   "execution_count": null,
   "id": "36c7fb7e",
   "metadata": {},
   "outputs": [],
   "source": []
  },
  {
   "cell_type": "code",
   "execution_count": 138,
   "id": "c582957e",
   "metadata": {},
   "outputs": [
    {
     "data": {
      "text/plain": [
       "array(['No', 'Yes'], dtype=object)"
      ]
     },
     "execution_count": 138,
     "metadata": {},
     "output_type": "execute_result"
    }
   ],
   "source": [
    "df['No-show'].unique()"
   ]
  },
  {
   "cell_type": "code",
   "execution_count": 139,
   "id": "b60887fe",
   "metadata": {},
   "outputs": [
    {
     "data": {
      "text/plain": [
       "No     88207\n",
       "Yes    22319\n",
       "Name: No-show, dtype: int64"
      ]
     },
     "execution_count": 139,
     "metadata": {},
     "output_type": "execute_result"
    }
   ],
   "source": [
    "df['No-show'].value_counts()"
   ]
  },
  {
   "cell_type": "markdown",
   "id": "43d1ff29",
   "metadata": {},
   "source": [
    "### Creating Age Group Column"
   ]
  },
  {
   "cell_type": "code",
   "execution_count": 140,
   "id": "3a0880f1",
   "metadata": {},
   "outputs": [],
   "source": [
    "df.loc[df['Age'] < 15 ,'Age_group'] = 'Children'\n",
    "df.loc[((df['Age'] > 14) & (df['Age'] < 25)) ,'Age_group'] = 'Youth'\n",
    "df.loc[(df['Age'] > 24) & (df['Age'] < 65 ),'Age_group'] = 'Adult'\n",
    "df.loc[df['Age'] > 64 ,'Age_group'] = 'Aged'"
   ]
  },
  {
   "cell_type": "markdown",
   "id": "534dcb53",
   "metadata": {},
   "source": [
    "### What gender is likely to miss an appointment?"
   ]
  },
  {
   "cell_type": "code",
   "execution_count": 141,
   "id": "fee30b99",
   "metadata": {},
   "outputs": [],
   "source": [
    "gender = df[['Gender','No-show']].groupby('No-show')"
   ]
  },
  {
   "cell_type": "code",
   "execution_count": 142,
   "id": "39e2660b",
   "metadata": {
    "scrolled": false
   },
   "outputs": [
    {
     "data": {
      "text/plain": [
       "F    0.653882\n",
       "M    0.346118\n",
       "Name: Gender, dtype: float64"
      ]
     },
     "execution_count": 142,
     "metadata": {},
     "output_type": "execute_result"
    }
   ],
   "source": [
    "gender.get_group('Yes')['Gender'].value_counts(normalize=True)"
   ]
  },
  {
   "cell_type": "code",
   "execution_count": 143,
   "id": "c6a88503",
   "metadata": {},
   "outputs": [
    {
     "data": {
      "image/png": "[encoded data removed]",
      "text/plain": [
       "<Figure size 432x288 with 1 Axes>"
      ]
     },
     "metadata": {
      "needs_background": "light"
     },
     "output_type": "display_data"
    }
   ],
   "source": [
    "gender.get_group('Yes')['Gender'].value_counts().plot(kind='bar');\n",
    "plt.xlabel('Gender')\n",
    "plt.ylabel('Counts')\n",
    "plt.title('Number of Missing Appointment Vs Gender');"
   ]
  },
  {
   "cell_type": "markdown",
   "id": "2be3e5df",
   "metadata": {},
   "source": [
    "### A female is likely to miss an agenda."
   ]
  },
  {
   "cell_type": "markdown",
   "id": "f53d34f0",
   "metadata": {},
   "source": [
    "### What effect does age group has on absence on both genders?"
   ]
  },
  {
   "cell_type": "code",
   "execution_count": 144,
   "id": "db31d5d1",
   "metadata": {},
   "outputs": [],
   "source": [
    "gender_age = df[['Gender','Age_group','No-show']].groupby('No-show')"
   ]
  },
  {
   "cell_type": "code",
   "execution_count": 145,
   "id": "b328f9f8",
   "metadata": {},
   "outputs": [
    {
     "data": {
      "image/png": "[encoded data removed]",
      "text/plain": [
       "<Figure size 432x288 with 1 Axes>"
      ]
     },
     "metadata": {
      "needs_background": "light"
     },
     "output_type": "display_data"
    }
   ],
   "source": [
    "gender_age.get_group('Yes')[['Gender','Age_group']].value_counts().plot(kind='bar');\n",
    "plt.xlabel('Gender')\n",
    "plt.ylabel('Age_Group')\n",
    "plt.title('The Number Missing Appointment For Each Age Group and Gender');"
   ]
  },
  {
   "cell_type": "markdown",
   "id": "6b974762",
   "metadata": {},
   "source": [
    "### An aged is less likely to miss an appointment while more adults miss appointment"
   ]
  },
  {
   "cell_type": "markdown",
   "id": "17f32375",
   "metadata": {},
   "source": [
    "### Are scholarship receipents missing more appointment than those not receiving scholarship?"
   ]
  },
  {
   "cell_type": "code",
   "execution_count": 146,
   "id": "905b9985",
   "metadata": {},
   "outputs": [],
   "source": [
    "scholarship  = df[['Scholarship','No-show']].groupby('No-show')"
   ]
  },
  {
   "cell_type": "code",
   "execution_count": 147,
   "id": "399e59a5",
   "metadata": {
    "scrolled": true
   },
   "outputs": [
    {
     "data": {
      "text/plain": [
       "0    0.884493\n",
       "1    0.115507\n",
       "Name: Scholarship, dtype: float64"
      ]
     },
     "execution_count": 147,
     "metadata": {},
     "output_type": "execute_result"
    }
   ],
   "source": [
    "scholarship.get_group('Yes')['Scholarship'].value_counts(normalize=True)"
   ]
  },
  {
   "cell_type": "code",
   "execution_count": 148,
   "id": "c0e031ce",
   "metadata": {},
   "outputs": [
    {
     "data": {
      "image/png": "[encoded data removed]",
      "text/plain": [
       "<Figure size 432x288 with 1 Axes>"
      ]
     },
     "metadata": {
      "needs_background": "light"
     },
     "output_type": "display_data"
    }
   ],
   "source": [
    "scholarship.get_group('Yes')['Scholarship'].value_counts().plot(kind='bar');\n",
    "plt.xlabel('Scholarship Receipent')\n",
    "plt.ylabel('Missing Appointment')\n",
    "plt.title('Number of Missing Appointment Vs Scholarship Status');"
   ]
  },
  {
   "cell_type": "markdown",
   "id": "60bd8572",
   "metadata": {},
   "source": [
    "### Scholarship receipent are less likely to miss an appointment"
   ]
  },
  {
   "cell_type": "markdown",
   "id": "b1fde98e",
   "metadata": {},
   "source": [
    "### What criteria is used to select scholarship receipent?"
   ]
  },
  {
   "cell_type": "code",
   "execution_count": 149,
   "id": "21ca06b4",
   "metadata": {},
   "outputs": [],
   "source": [
    "sch_hyp_dia_age = df[['Scholarship','Hypertension','Diabetes','Age_group']].groupby('Scholarship')"
   ]
  },
  {
   "cell_type": "code",
   "execution_count": 150,
   "id": "7b335b75",
   "metadata": {
    "scrolled": true
   },
   "outputs": [
    {
     "data": {
      "text/plain": [
       "Hypertension  Diabetes  Age_group\n",
       "0             0         Adult        4669\n",
       "                        Children     2409\n",
       "                        Youth        1699\n",
       "1             0         Adult        1286\n",
       "              1         Adult         356\n",
       "              0         Aged          152\n",
       "0             1         Adult         129\n",
       "1             1         Aged           68\n",
       "0             0         Aged           61\n",
       "1             0         Youth          11\n",
       "0             1         Aged           10\n",
       "1             1         Youth           6\n",
       "              0         Children        5\n",
       "dtype: int64"
      ]
     },
     "execution_count": 150,
     "metadata": {},
     "output_type": "execute_result"
    }
   ],
   "source": [
    "sch_hyp_dia_age.get_group(1)[['Hypertension','Diabetes','Age_group']].value_counts()"
   ]
  },
  {
   "cell_type": "code",
   "execution_count": 151,
   "id": "4760ab8b",
   "metadata": {},
   "outputs": [
    {
     "data": {
      "image/png": "[encoded data removed]",
      "text/plain": [
       "<Figure size 432x288 with 1 Axes>"
      ]
     },
     "metadata": {
      "needs_background": "light"
     },
     "output_type": "display_data"
    }
   ],
   "source": [
    "sch_hyp_dia_age.get_group(1)[['Hypertension','Diabetes','Age_group']].value_counts().plot(kind='bar');\n",
    "plt.xlabel('Health Status')\n",
    "plt.ylabel('Number of Scholars')\n",
    "plt.title('Number of Scholars Vs Health');"
   ]
  },
  {
   "cell_type": "code",
   "execution_count": 152,
   "id": "81154672",
   "metadata": {},
   "outputs": [
    {
     "data": {
      "image/png": "[encoded data removed]",
      "text/plain": [
       "<Figure size 432x288 with 1 Axes>"
      ]
     },
     "metadata": {
      "needs_background": "light"
     },
     "output_type": "display_data"
    }
   ],
   "source": [
    "sch_hyp_dia_age.get_group(1)[['Age_group']].value_counts().plot(kind='bar');\n",
    "plt.xlabel('Age Group')\n",
    "plt.ylabel('Number of Scholars')\n",
    "plt.title('Number of Scholars vs Age Group');"
   ]
  },
  {
   "cell_type": "markdown",
   "id": "d3e8f1dd",
   "metadata": {},
   "source": [
    "### The age group seem to be the most important factor that determine if someone gets the scholarship. From the plot, it can be deduced that Adults are the most populous receipient of the scholarship and the Aged are only given the scholarship if they have either Hypertension or Diabetes or Both.  "
   ]
  },
  {
   "cell_type": "markdown",
   "id": "5f75d373",
   "metadata": {},
   "source": [
    "### Did hypertensive patients miss more appointment?"
   ]
  },
  {
   "cell_type": "code",
   "execution_count": 153,
   "id": "e6e51e7e",
   "metadata": {},
   "outputs": [],
   "source": [
    "hypertension  = df[['Hypertension','No-show']].groupby('Hypertension')"
   ]
  },
  {
   "cell_type": "code",
   "execution_count": 154,
   "id": "62d19a25",
   "metadata": {},
   "outputs": [
    {
     "data": {
      "text/plain": [
       "No     0.82698\n",
       "Yes    0.17302\n",
       "Name: No-show, dtype: float64"
      ]
     },
     "execution_count": 154,
     "metadata": {},
     "output_type": "execute_result"
    }
   ],
   "source": [
    "hypertension.get_group(1)['No-show'].value_counts(normalize=True)"
   ]
  },
  {
   "cell_type": "code",
   "execution_count": 155,
   "id": "680f7715",
   "metadata": {},
   "outputs": [
    {
     "data": {
      "image/png": "[encoded data removed]",
      "text/plain": [
       "<Figure size 432x288 with 1 Axes>"
      ]
     },
     "metadata": {
      "needs_background": "light"
     },
     "output_type": "display_data"
    }
   ],
   "source": [
    "hypertension.get_group(1)['No-show'].value_counts().plot(kind='bar')\n",
    "plt.xlabel('Hypertension Status')\n",
    "plt.ylabel('Number of Missing Appointment')\n",
    "plt.title('Number of Missing Apartment Vs Hypertension Status');"
   ]
  },
  {
   "cell_type": "markdown",
   "id": "3edf9ef1",
   "metadata": {},
   "source": [
    "###  No, hypertensive patients did not miss a most of the appointment"
   ]
  },
  {
   "cell_type": "markdown",
   "id": "b9e17932",
   "metadata": {},
   "source": [
    "### What age group has more hypertension?"
   ]
  },
  {
   "cell_type": "code",
   "execution_count": 156,
   "id": "1b1f1b28",
   "metadata": {},
   "outputs": [],
   "source": [
    "hyper_age  = df[['Hypertension','Age_group']].groupby('Hypertension')"
   ]
  },
  {
   "cell_type": "code",
   "execution_count": 157,
   "id": "071eefc5",
   "metadata": {
    "scrolled": true
   },
   "outputs": [
    {
     "data": {
      "text/plain": [
       "Adult       0.603826\n",
       "Aged        0.391588\n",
       "Youth       0.003670\n",
       "Children    0.000917\n",
       "Name: Age_group, dtype: float64"
      ]
     },
     "execution_count": 157,
     "metadata": {},
     "output_type": "execute_result"
    }
   ],
   "source": [
    "hyper_age.get_group(1)['Age_group'].value_counts(normalize=True)"
   ]
  },
  {
   "cell_type": "code",
   "execution_count": 158,
   "id": "893c314e",
   "metadata": {},
   "outputs": [
    {
     "data": {
      "image/png": "[encoded data removed]",
      "text/plain": [
       "<Figure size 432x288 with 1 Axes>"
      ]
     },
     "metadata": {
      "needs_background": "light"
     },
     "output_type": "display_data"
    }
   ],
   "source": [
    "hyper_age.get_group(1)['Age_group'].value_counts().plot(kind='bar');\n",
    "plt.xlabel('Age Group')\n",
    "plt.ylabel('Hypertension Status')\n",
    "plt.title('Hypertensiom Status vs Age Group');"
   ]
  },
  {
   "cell_type": "markdown",
   "id": "a03c6801",
   "metadata": {},
   "source": [
    "### More than 90% of the hypertensive patients are either an adult and aged"
   ]
  },
  {
   "cell_type": "markdown",
   "id": "c37fbafa",
   "metadata": {},
   "source": [
    "### Did most hypertensive patient have diabetes? "
   ]
  },
  {
   "cell_type": "code",
   "execution_count": 159,
   "id": "16ef2048",
   "metadata": {},
   "outputs": [],
   "source": [
    "hyper_dia  = df[['Hypertension','Diabetes']].groupby('Hypertension')"
   ]
  },
  {
   "cell_type": "code",
   "execution_count": 160,
   "id": "0dce221a",
   "metadata": {},
   "outputs": [
    {
     "data": {
      "text/plain": [
       "0    0.702491\n",
       "1    0.297509\n",
       "Name: Diabetes, dtype: float64"
      ]
     },
     "execution_count": 160,
     "metadata": {},
     "output_type": "execute_result"
    }
   ],
   "source": [
    "hyper_dia.get_group(1)['Diabetes'].value_counts(normalize=True)"
   ]
  },
  {
   "cell_type": "code",
   "execution_count": 161,
   "id": "638f8f42",
   "metadata": {},
   "outputs": [
    {
     "data": {
      "image/png": "[encoded data removed]",
      "text/plain": [
       "<Figure size 432x288 with 1 Axes>"
      ]
     },
     "metadata": {
      "needs_background": "light"
     },
     "output_type": "display_data"
    }
   ],
   "source": [
    "hyper_dia.get_group(1)['Diabetes'].value_counts().plot(kind='bar')\n",
    "plt.xlabel('Hypertension Status')\n",
    "plt.ylabel('Count of Diabetes Status');\n",
    "plt.title('Count of Diabetes Status Vs Hypertension Status');"
   ]
  },
  {
   "cell_type": "markdown",
   "id": "6196dc4b",
   "metadata": {},
   "source": [
    "### No, a larger percentage of hypertensive patients did not have diabetes"
   ]
  },
  {
   "cell_type": "markdown",
   "id": "58e20dd6",
   "metadata": {},
   "source": [
    "### what percentage of hypertensive patients takes alcohol?"
   ]
  },
  {
   "cell_type": "code",
   "execution_count": 162,
   "id": "84275c69",
   "metadata": {},
   "outputs": [],
   "source": [
    "hyper_alc = df[['Hypertension','Alcoholism']].groupby('Hypertension')"
   ]
  },
  {
   "cell_type": "code",
   "execution_count": 163,
   "id": "b910c00f",
   "metadata": {},
   "outputs": [
    {
     "data": {
      "text/plain": [
       "0    0.939131\n",
       "1    0.060869\n",
       "Name: Alcoholism, dtype: float64"
      ]
     },
     "execution_count": 163,
     "metadata": {},
     "output_type": "execute_result"
    }
   ],
   "source": [
    "hyper_alc.get_group(1)['Alcoholism'].value_counts(normalize=True)"
   ]
  },
  {
   "cell_type": "code",
   "execution_count": 164,
   "id": "b0bbc175",
   "metadata": {},
   "outputs": [
    {
     "data": {
      "image/png": "[encoded data removed]",
      "text/plain": [
       "<Figure size 432x288 with 1 Axes>"
      ]
     },
     "metadata": {
      "needs_background": "light"
     },
     "output_type": "display_data"
    }
   ],
   "source": [
    "hyper_alc.get_group(1)['Alcoholism'].value_counts().plot(kind='bar')\n",
    "plt.xlabel('Hypertension Status')\n",
    "plt.ylabel('Count of Alcoholism Status');\n",
    "plt.title('Count of Alcoholism Status Vs Hypertension Status');"
   ]
  },
  {
   "cell_type": "markdown",
   "id": "43e00690",
   "metadata": {},
   "source": [
    "### 6.09 % of Hypertensive patients takes alcohol "
   ]
  },
  {
   "cell_type": "markdown",
   "id": "a9021d5d",
   "metadata": {},
   "source": [
    "### How many diabetic patients miss their appointment?"
   ]
  },
  {
   "cell_type": "code",
   "execution_count": 165,
   "id": "acfa181a",
   "metadata": {},
   "outputs": [],
   "source": [
    "diabetes  = df[['Diabetes','No-show']].groupby('Diabetes')"
   ]
  },
  {
   "cell_type": "code",
   "execution_count": 166,
   "id": "f3e0777c",
   "metadata": {},
   "outputs": [
    {
     "data": {
      "text/plain": [
       "No     6513\n",
       "Yes    1430\n",
       "Name: No-show, dtype: int64"
      ]
     },
     "execution_count": 166,
     "metadata": {},
     "output_type": "execute_result"
    }
   ],
   "source": [
    "diabetes.get_group(1)['No-show'].value_counts()"
   ]
  },
  {
   "cell_type": "code",
   "execution_count": 167,
   "id": "e46b8b1f",
   "metadata": {},
   "outputs": [
    {
     "data": {
      "image/png": "[encoded data removed]",
      "text/plain": [
       "<Figure size 432x288 with 1 Axes>"
      ]
     },
     "metadata": {
      "needs_background": "light"
     },
     "output_type": "display_data"
    }
   ],
   "source": [
    "diabetes.get_group(1)['No-show'].value_counts().plot(kind='bar')\n",
    "plt.xlabel('Diabetes Status')\n",
    "plt.ylabel('Number of Missing Appointment');\n",
    "plt.title('Number of Missing Appointment Vs Diabetes Status');"
   ]
  },
  {
   "cell_type": "markdown",
   "id": "0bcfa8c1",
   "metadata": {},
   "source": [
    "### 1430 diabetic patients missed thier appointmen"
   ]
  },
  {
   "cell_type": "markdown",
   "id": "e0489d8c",
   "metadata": {},
   "source": [
    "### What percentage of alcoholics are diabetic?"
   ]
  },
  {
   "cell_type": "code",
   "execution_count": 168,
   "id": "e332d8f5",
   "metadata": {},
   "outputs": [],
   "source": [
    "dia_alc  = df[['Diabetes','Alcoholism']].groupby('Alcoholism')"
   ]
  },
  {
   "cell_type": "code",
   "execution_count": 169,
   "id": "6a6fd649",
   "metadata": {},
   "outputs": [
    {
     "data": {
      "text/plain": [
       "0    0.90119\n",
       "1    0.09881\n",
       "Name: Diabetes, dtype: float64"
      ]
     },
     "execution_count": 169,
     "metadata": {},
     "output_type": "execute_result"
    }
   ],
   "source": [
    "dia_alc.get_group(1)['Diabetes'].value_counts(normalize=True)"
   ]
  },
  {
   "cell_type": "code",
   "execution_count": 170,
   "id": "65616320",
   "metadata": {},
   "outputs": [
    {
     "data": {
      "image/png": "[encoded data removed]",
      "text/plain": [
       "<Figure size 432x288 with 1 Axes>"
      ]
     },
     "metadata": {
      "needs_background": "light"
     },
     "output_type": "display_data"
    }
   ],
   "source": [
    "dia_alc.get_group(1)['Diabetes'].value_counts().plot(kind='bar')\n",
    "plt.xlabel('Diabetes Status')\n",
    "plt.ylabel('Number of Alcoholics')\n",
    "plt.title('Number of Alcoholics Vs Diabetes Status');"
   ]
  },
  {
   "cell_type": "markdown",
   "id": "71ba2bd6",
   "metadata": {},
   "source": [
    "### 9.88 % of alcoholics are diabetic"
   ]
  },
  {
   "cell_type": "markdown",
   "id": "00d4c4f2",
   "metadata": {},
   "source": [
    "### Did Alcoholics miss more appointment than non-alcoholics?"
   ]
  },
  {
   "cell_type": "code",
   "execution_count": 171,
   "id": "074f9220",
   "metadata": {},
   "outputs": [],
   "source": [
    "alcoholism  = df[['Alcoholism','No-show']].groupby('No-show')"
   ]
  },
  {
   "cell_type": "code",
   "execution_count": 172,
   "id": "1578bfe2",
   "metadata": {},
   "outputs": [
    {
     "data": {
      "text/plain": [
       "0    21642\n",
       "1      677\n",
       "Name: Alcoholism, dtype: int64"
      ]
     },
     "execution_count": 172,
     "metadata": {},
     "output_type": "execute_result"
    }
   ],
   "source": [
    "alcoholism.get_group('Yes')['Alcoholism'].value_counts()"
   ]
  },
  {
   "cell_type": "code",
   "execution_count": 173,
   "id": "603e0996",
   "metadata": {},
   "outputs": [
    {
     "data": {
      "image/png": "[encoded data removed]",
      "text/plain": [
       "<Figure size 432x288 with 1 Axes>"
      ]
     },
     "metadata": {
      "needs_background": "light"
     },
     "output_type": "display_data"
    }
   ],
   "source": [
    "alcoholism.get_group('Yes')['Alcoholism'].value_counts().plot(kind='bar')\n",
    "plt.xlabel('Alcoholism Status')\n",
    "plt.ylabel('Number of Missing Appointment')\n",
    "plt.title('Number of Missing Appointment Vs Alcoholism Status');"
   ]
  },
  {
   "cell_type": "markdown",
   "id": "23ce3376",
   "metadata": {},
   "source": [
    "### No, there are more Non - alcoholics that missed their appointment than alcoholics"
   ]
  },
  {
   "cell_type": "markdown",
   "id": "a37e56aa",
   "metadata": {},
   "source": [
    "### What was the effect of the sms on patients appointment?"
   ]
  },
  {
   "cell_type": "code",
   "execution_count": 174,
   "id": "41a196bd",
   "metadata": {},
   "outputs": [],
   "source": [
    "sms = df[['SMS_received','No-show']].groupby('No-show')"
   ]
  },
  {
   "cell_type": "code",
   "execution_count": 175,
   "id": "4911aef0",
   "metadata": {},
   "outputs": [
    {
     "data": {
      "text/plain": [
       "0    62509\n",
       "1    25698\n",
       "Name: SMS_received, dtype: int64"
      ]
     },
     "execution_count": 175,
     "metadata": {},
     "output_type": "execute_result"
    }
   ],
   "source": [
    "sms.get_group('No')['SMS_received'].value_counts()"
   ]
  },
  {
   "cell_type": "code",
   "execution_count": 176,
   "id": "6c3199cf",
   "metadata": {},
   "outputs": [
    {
     "data": {
      "text/plain": [
       "0    12535\n",
       "1     9784\n",
       "Name: SMS_received, dtype: int64"
      ]
     },
     "execution_count": 176,
     "metadata": {},
     "output_type": "execute_result"
    }
   ],
   "source": [
    "sms.get_group('Yes')['SMS_received'].value_counts()"
   ]
  },
  {
   "cell_type": "markdown",
   "id": "661e24b8",
   "metadata": {},
   "source": [
    "### The sms decreases the number of patients that missed thier meeting."
   ]
  },
  {
   "cell_type": "markdown",
   "id": "dff69912",
   "metadata": {},
   "source": [
    "### What is the percentage of missing appointments for each handicap?"
   ]
  },
  {
   "cell_type": "code",
   "execution_count": 177,
   "id": "eb41880b",
   "metadata": {},
   "outputs": [],
   "source": [
    "handicap = df[['Handicap','No-show']].groupby('No-show')"
   ]
  },
  {
   "cell_type": "code",
   "execution_count": 178,
   "id": "45c4597d",
   "metadata": {},
   "outputs": [
    {
     "data": {
      "text/plain": [
       "0    0.979208\n",
       "1    0.019001\n",
       "2    0.001655\n",
       "3    0.000113\n",
       "4    0.000023\n",
       "Name: Handicap, dtype: float64"
      ]
     },
     "execution_count": 178,
     "metadata": {},
     "output_type": "execute_result"
    }
   ],
   "source": [
    "handicap.get_group('No')['Handicap'].value_counts(normalize=True)"
   ]
  },
  {
   "cell_type": "code",
   "execution_count": 179,
   "id": "6096719e",
   "metadata": {},
   "outputs": [
    {
     "data": {
      "text/plain": [
       "0    0.981764\n",
       "1    0.016399\n",
       "2    0.001658\n",
       "3    0.000134\n",
       "4    0.000045\n",
       "Name: Handicap, dtype: float64"
      ]
     },
     "execution_count": 179,
     "metadata": {},
     "output_type": "execute_result"
    }
   ],
   "source": [
    "handicap.get_group('Yes')['Handicap'].value_counts(normalize=True)"
   ]
  },
  {
   "cell_type": "markdown",
   "id": "bdc130c6",
   "metadata": {},
   "source": [
    "### What age group are the most diabetic?"
   ]
  },
  {
   "cell_type": "code",
   "execution_count": 180,
   "id": "fd15e7e5",
   "metadata": {},
   "outputs": [],
   "source": [
    "age_diabetes = df[['Age_group','Diabetes']].groupby('Diabetes')"
   ]
  },
  {
   "cell_type": "code",
   "execution_count": 181,
   "id": "8e2d1365",
   "metadata": {},
   "outputs": [
    {
     "data": {
      "text/plain": [
       "Adult       0.565152\n",
       "Aged        0.423392\n",
       "Youth       0.009065\n",
       "Children    0.002392\n",
       "Name: Age_group, dtype: float64"
      ]
     },
     "execution_count": 181,
     "metadata": {},
     "output_type": "execute_result"
    }
   ],
   "source": [
    "age_diabetes.get_group(1)['Age_group'].value_counts(normalize=True)"
   ]
  },
  {
   "cell_type": "code",
   "execution_count": 182,
   "id": "f25b5a89",
   "metadata": {},
   "outputs": [
    {
     "data": {
      "image/png": "[encoded data removed]",
      "text/plain": [
       "<Figure size 432x288 with 1 Axes>"
      ]
     },
     "metadata": {
      "needs_background": "light"
     },
     "output_type": "display_data"
    }
   ],
   "source": [
    "age_diabetes.get_group(1)['Age_group'].value_counts().plot(kind='bar');\n",
    "plt.xlabel('Age Group')\n",
    "plt.ylabel('Number of Diabetics')\n",
    "plt.title('Number of Diabetics Vs Age Group');"
   ]
  },
  {
   "cell_type": "markdown",
   "id": "20e7f238",
   "metadata": {},
   "source": [
    "### Most diabetics patients are either adults or aged"
   ]
  },
  {
   "cell_type": "markdown",
   "id": "f51b57ce",
   "metadata": {},
   "source": [
    "### What Gender and Age Group Are More Likely to Have Diabetes"
   ]
  },
  {
   "cell_type": "code",
   "execution_count": 183,
   "id": "c7410d70",
   "metadata": {},
   "outputs": [],
   "source": [
    "gender_diabetes = df[['Gender','Diabetes']].groupby('Diabetes')"
   ]
  },
  {
   "cell_type": "code",
   "execution_count": 184,
   "id": "28421465",
   "metadata": {},
   "outputs": [
    {
     "data": {
      "text/plain": [
       "F    5606\n",
       "M    2337\n",
       "Name: Gender, dtype: int64"
      ]
     },
     "execution_count": 184,
     "metadata": {},
     "output_type": "execute_result"
    }
   ],
   "source": [
    "gender_diabetes.get_group(1)['Gender'].value_counts()"
   ]
  },
  {
   "cell_type": "code",
   "execution_count": 185,
   "id": "aeaf48a3",
   "metadata": {},
   "outputs": [
    {
     "data": {
      "image/png": "[encoded data removed]",
      "text/plain": [
       "<Figure size 432x288 with 1 Axes>"
      ]
     },
     "metadata": {
      "needs_background": "light"
     },
     "output_type": "display_data"
    }
   ],
   "source": [
    "gender_diabetes.get_group(1)['Gender'].value_counts(normalize=True).plot(kind = 'bar');\n",
    "plt.xlabel('Gender')\n",
    "plt.ylabel('Number of Diabetics')\n",
    "plt.title('Number of Diabetics Vs Gender');"
   ]
  },
  {
   "cell_type": "code",
   "execution_count": 186,
   "id": "46b67dd1",
   "metadata": {},
   "outputs": [],
   "source": [
    "age_dia_gen = df[['Age_group','Diabetes','Gender']].groupby('Diabetes')"
   ]
  },
  {
   "cell_type": "code",
   "execution_count": 187,
   "id": "8a3fcff3",
   "metadata": {},
   "outputs": [
    {
     "data": {
      "image/png": "[encoded data removed]",
      "text/plain": [
       "<Figure size 432x288 with 1 Axes>"
      ]
     },
     "metadata": {
      "needs_background": "light"
     },
     "output_type": "display_data"
    }
   ],
   "source": [
    "age_dia_gen.get_group(0)[['Age_group','Gender']].value_counts().plot(kind='bar');\n",
    "plt.xlabel('Age Group and Gender')\n",
    "plt.ylabel('Number of Non-Diabetics')\n",
    "plt.title('Number of Non-Diabetics Vs Age Group and Gender');"
   ]
  },
  {
   "cell_type": "code",
   "execution_count": 188,
   "id": "cb7c8f67",
   "metadata": {},
   "outputs": [
    {
     "data": {
      "image/png": "[encoded data removed]",
      "text/plain": [
       "<Figure size 432x288 with 1 Axes>"
      ]
     },
     "metadata": {
      "needs_background": "light"
     },
     "output_type": "display_data"
    }
   ],
   "source": [
    "age_dia_gen.get_group(1)[['Age_group','Gender']].value_counts().plot(kind='bar');\n",
    "plt.xlabel('Age Group and Gender')\n",
    "plt.ylabel('Number of Diabetics')\n",
    "plt.title('Number of Diabetics Vs Age Group and Gender');"
   ]
  },
  {
   "cell_type": "markdown",
   "id": "80014b99",
   "metadata": {},
   "source": [
    "### Conclusion : Most diabetic patients are above 24(Youth age) and are mostly females"
   ]
  },
  {
   "cell_type": "code",
   "execution_count": null,
   "id": "b231261d",
   "metadata": {},
   "outputs": [],
   "source": []
  },
  {
   "cell_type": "markdown",
   "id": "a51a247e",
   "metadata": {},
   "source": [
    "### Does taking alcohol causes diabetes? "
   ]
  },
  {
   "cell_type": "code",
   "execution_count": 189,
   "id": "74e28562",
   "metadata": {},
   "outputs": [],
   "source": [
    "diabetes_alcohol = df[['Diabetes','Alcoholism']].groupby('Alcoholism')"
   ]
  },
  {
   "cell_type": "code",
   "execution_count": 190,
   "id": "90c65983",
   "metadata": {},
   "outputs": [
    {
     "data": {
      "image/png": "[encoded data removed]",
      "text/plain": [
       "<Figure size 432x288 with 1 Axes>"
      ]
     },
     "metadata": {
      "needs_background": "light"
     },
     "output_type": "display_data"
    }
   ],
   "source": [
    "diabetes_alcohol.get_group(0)['Diabetes'].value_counts().plot(kind='bar');\n",
    "plt.xlabel('Diabetes Status')\n",
    "plt.ylabel('Number of Non-Alcoholics')\n",
    "plt.title('Number of Non-Alcoholics Vs Diabetes Status');"
   ]
  },
  {
   "cell_type": "code",
   "execution_count": 191,
   "id": "06947ab6",
   "metadata": {},
   "outputs": [
    {
     "data": {
      "image/png": "[encoded data removed]",
      "text/plain": [
       "<Figure size 432x288 with 1 Axes>"
      ]
     },
     "metadata": {
      "needs_background": "light"
     },
     "output_type": "display_data"
    }
   ],
   "source": [
    "diabetes_alcohol.get_group(1)['Diabetes'].value_counts().plot(kind='bar');\n",
    "plt.xlabel('Diabetes Status')\n",
    "plt.ylabel('Number of Alcoholics')\n",
    "plt.title('Number of Alcoholics Vs Diabetes Status');"
   ]
  },
  {
   "cell_type": "markdown",
   "id": "89cee852",
   "metadata": {},
   "source": [
    "### Taking alcohol does not lead to diabetes"
   ]
  },
  {
   "cell_type": "code",
   "execution_count": null,
   "id": "09b3f72e",
   "metadata": {},
   "outputs": [],
   "source": []
  },
  {
   "cell_type": "markdown",
   "id": "e4d770aa",
   "metadata": {},
   "source": [
    "### Does taking alcohol lead to hypertension?"
   ]
  },
  {
   "cell_type": "code",
   "execution_count": 192,
   "id": "4c36cb4c",
   "metadata": {},
   "outputs": [],
   "source": [
    "hyper_alcohol = df[['Hypertension','Alcoholism']].groupby('Alcoholism')"
   ]
  },
  {
   "cell_type": "code",
   "execution_count": 193,
   "id": "b7129812",
   "metadata": {},
   "outputs": [
    {
     "data": {
      "image/png": "[encoded data removed]",
      "text/plain": [
       "<Figure size 432x288 with 1 Axes>"
      ]
     },
     "metadata": {
      "needs_background": "light"
     },
     "output_type": "display_data"
    }
   ],
   "source": [
    "hyper_alcohol.get_group(0)['Hypertension'].value_counts().plot(kind='bar');\n",
    "plt.xlabel('Hypertension Status')\n",
    "plt.ylabel('Number of Non-Alcoholics')\n",
    "plt.title('Number of Non-Alcoholics Vs Hypertension Status');"
   ]
  },
  {
   "cell_type": "code",
   "execution_count": 194,
   "id": "cafed1a3",
   "metadata": {
    "scrolled": true
   },
   "outputs": [
    {
     "data": {
      "image/png": "[encoded data removed]",
      "text/plain": [
       "<Figure size 432x288 with 1 Axes>"
      ]
     },
     "metadata": {
      "needs_background": "light"
     },
     "output_type": "display_data"
    }
   ],
   "source": [
    "hyper_alcohol.get_group(1)['Hypertension'].value_counts().plot(kind='bar');\n",
    "plt.xlabel('Hypertension Status')\n",
    "plt.ylabel('Number of Alcoholics')\n",
    "plt.title('Number of Alcoholics Vs Hypertension Status');"
   ]
  },
  {
   "cell_type": "markdown",
   "id": "cef2d06f",
   "metadata": {},
   "source": [
    "### Taking Alcohol increases the chances of having hypertension"
   ]
  },
  {
   "cell_type": "markdown",
   "id": "2dfa03e2",
   "metadata": {},
   "source": [
    "### Are patients with hypertension and diabetes likely to miss an appointment?"
   ]
  },
  {
   "cell_type": "code",
   "execution_count": 195,
   "id": "9ce905ca",
   "metadata": {},
   "outputs": [],
   "source": [
    "hyper_dia_miss = df[['Hypertension','Diabetes','No-show']].groupby('No-show')"
   ]
  },
  {
   "cell_type": "code",
   "execution_count": 196,
   "id": "3dc692bc",
   "metadata": {},
   "outputs": [
    {
     "data": {
      "image/png": "[encoded data removed]",
      "text/plain": [
       "<Figure size 432x288 with 1 Axes>"
      ]
     },
     "metadata": {
      "needs_background": "light"
     },
     "output_type": "display_data"
    }
   ],
   "source": [
    "hyper_dia_miss.get_group('Yes')[['Hypertension','Diabetes']].value_counts().plot(kind='bar');\n",
    "plt.xlabel('Hypertension and Diabetes Status')\n",
    "plt.ylabel('Number of Missing Appointment')\n",
    "plt.title('Number of Missing Appointment Vs Hypertension and Diabetes Status');"
   ]
  },
  {
   "cell_type": "markdown",
   "id": "6fd749e7",
   "metadata": {},
   "source": [
    "### Patients suffering from hypertension and diabetes does not determine the patients availability for an appointment"
   ]
  },
  {
   "cell_type": "markdown",
   "id": "65082b7a",
   "metadata": {},
   "source": [
    "### Top Ten Neighbourhood That Miss Their Appointments"
   ]
  },
  {
   "cell_type": "code",
   "execution_count": 197,
   "id": "d20c9acc",
   "metadata": {},
   "outputs": [],
   "source": [
    "Neigh_Nos = df[['No-show','Neighbourhood']].groupby('No-show')"
   ]
  },
  {
   "cell_type": "code",
   "execution_count": 198,
   "id": "f3adea63",
   "metadata": {},
   "outputs": [
    {
     "data": {
      "text/plain": [
       "JARDIM CAMBURI       1465\n",
       "MARIA ORTIZ          1219\n",
       "ITARARÉ               923\n",
       "RESISTÊNCIA           906\n",
       "CENTRO                703\n",
       "JESUS DE NAZARETH     696\n",
       "JARDIM DA PENHA       631\n",
       "CARATOÍRA             591\n",
       "TABUAZEIRO            573\n",
       "BONFIM                550\n",
       "Name: Neighbourhood, dtype: int64"
      ]
     },
     "execution_count": 198,
     "metadata": {},
     "output_type": "execute_result"
    }
   ],
   "source": [
    "Neigh_Nos.get_group('Yes')['Neighbourhood'].value_counts().head(10)"
   ]
  },
  {
   "cell_type": "code",
   "execution_count": 199,
   "id": "95f3a214",
   "metadata": {},
   "outputs": [
    {
     "data": {
      "text/plain": [
       "JARDIM CAMBURI     6252\n",
       "MARIA ORTIZ        4586\n",
       "RESISTÊNCIA        3525\n",
       "JARDIM DA PENHA    3246\n",
       "SANTA MARTHA       2635\n",
       "CENTRO             2631\n",
       "ITARARÉ            2591\n",
       "TABUAZEIRO         2559\n",
       "SANTO ANTÔNIO      2262\n",
       "BONFIM             2223\n",
       "Name: Neighbourhood, dtype: int64"
      ]
     },
     "execution_count": 199,
     "metadata": {},
     "output_type": "execute_result"
    }
   ],
   "source": [
    "Neigh_Nos.get_group('No')['Neighbourhood'].value_counts().head(10)"
   ]
  },
  {
   "cell_type": "markdown",
   "id": "d7804deb",
   "metadata": {},
   "source": [
    "### From the analysis above it can be deduced that more people in each neighbourhood missed their appointments."
   ]
  },
  {
   "cell_type": "markdown",
   "id": "3ef8f0bc",
   "metadata": {},
   "source": [
    "### What Neighbourhoods are the most populous?"
   ]
  },
  {
   "cell_type": "code",
   "execution_count": 200,
   "id": "a1afdf02",
   "metadata": {},
   "outputs": [
    {
     "data": {
      "text/plain": [
       "JARDIM CAMBURI                 0.069821\n",
       "MARIA ORTIZ                    0.052522\n",
       "RESISTÊNCIA                    0.040090\n",
       "JARDIM DA PENHA                0.035078\n",
       "ITARARÉ                        0.031793\n",
       "                                 ...   \n",
       "ILHA DO BOI                    0.000317\n",
       "ILHA DO FRADE                  0.000090\n",
       "AEROPORTO                      0.000072\n",
       "ILHAS OCEÂNICAS DE TRINDADE    0.000018\n",
       "PARQUE INDUSTRIAL              0.000009\n",
       "Name: Neighbourhood, Length: 81, dtype: float64"
      ]
     },
     "execution_count": 200,
     "metadata": {},
     "output_type": "execute_result"
    }
   ],
   "source": [
    "df['Neighbourhood'].value_counts(normalize=True)"
   ]
  },
  {
   "cell_type": "code",
   "execution_count": 201,
   "id": "104b91ad",
   "metadata": {},
   "outputs": [
    {
     "data": {
      "text/plain": [
       "JARDIM CAMBURI       7717\n",
       "MARIA ORTIZ          5805\n",
       "RESISTÊNCIA          4431\n",
       "JARDIM DA PENHA      3877\n",
       "ITARARÉ              3514\n",
       "CENTRO               3334\n",
       "TABUAZEIRO           3132\n",
       "SANTA MARTHA         3131\n",
       "JESUS DE NAZARETH    2853\n",
       "BONFIM               2773\n",
       "SANTO ANTÔNIO        2746\n",
       "SANTO ANDRÉ          2571\n",
       "CARATOÍRA            2565\n",
       "JABOUR               2509\n",
       "SÃO PEDRO            2448\n",
       "Name: Neighbourhood, dtype: int64"
      ]
     },
     "execution_count": 201,
     "metadata": {},
     "output_type": "execute_result"
    }
   ],
   "source": [
    "df['Neighbourhood'].value_counts().head(15)"
   ]
  },
  {
   "cell_type": "code",
   "execution_count": 202,
   "id": "a894c9fa",
   "metadata": {
    "scrolled": true
   },
   "outputs": [
    {
     "data": {
      "text/plain": [
       "ANTÔNIO HONÓRIO                271\n",
       "FRADINHOS                      258\n",
       "ENSEADA DO SUÁ                 235\n",
       "SANTA HELENA                   178\n",
       "HORTO                          175\n",
       "UNIVERSITÁRIO                  152\n",
       "SEGURANÇA DO LAR               145\n",
       "NAZARETH                       135\n",
       "MORADA DE CAMBURI               96\n",
       "PONTAL DE CAMBURI               69\n",
       "ILHA DO BOI                     35\n",
       "ILHA DO FRADE                   10\n",
       "AEROPORTO                        8\n",
       "ILHAS OCEÂNICAS DE TRINDADE      2\n",
       "PARQUE INDUSTRIAL                1\n",
       "Name: Neighbourhood, dtype: int64"
      ]
     },
     "execution_count": 202,
     "metadata": {},
     "output_type": "execute_result"
    }
   ],
   "source": [
    "df['Neighbourhood'].value_counts().tail(15)"
   ]
  },
  {
   "cell_type": "markdown",
   "id": "a34e4064",
   "metadata": {},
   "source": [
    "### Which Neighbourhood has the highest number of Alcoholics?"
   ]
  },
  {
   "cell_type": "code",
   "execution_count": 203,
   "id": "c91d619b",
   "metadata": {},
   "outputs": [],
   "source": [
    "neigh_alcohol = df[['Alcoholism','Neighbourhood']].groupby('Alcoholism')"
   ]
  },
  {
   "cell_type": "code",
   "execution_count": 204,
   "id": "1f8e1479",
   "metadata": {},
   "outputs": [
    {
     "data": {
      "text/plain": [
       "SANTA MARTHA    344\n",
       "Name: Neighbourhood, dtype: int64"
      ]
     },
     "execution_count": 204,
     "metadata": {},
     "output_type": "execute_result"
    }
   ],
   "source": [
    "neigh_alcohol.get_group(1)['Neighbourhood'].value_counts().head(1)"
   ]
  },
  {
   "cell_type": "markdown",
   "id": "81601d12",
   "metadata": {},
   "source": [
    "### Santa Martha has the highest number of Alcoholics"
   ]
  },
  {
   "cell_type": "code",
   "execution_count": 205,
   "id": "601b0a83",
   "metadata": {},
   "outputs": [
    {
     "data": {
      "text/plain": [
       "1"
      ]
     },
     "execution_count": 205,
     "metadata": {},
     "output_type": "execute_result"
    }
   ],
   "source": [
    "from subprocess import call\n",
    "call(['python', '-m', 'nbconvert', 'No_Show_Appointment.ipynb'])"
   ]
  },
  {
   "cell_type": "code",
   "execution_count": null,
   "id": "7891ac6b",
   "metadata": {},
   "outputs": [],
   "source": []
  }
 ],
 "metadata": {
  "kernelspec": {
   "display_name": "Python 3 (ipykernel)",
   "language": "python",
   "name": "python3"
  },
  "language_info": {
   "codemirror_mode": {
    "name": "ipython",
    "version": 3
   },
   "file_extension": ".py",
   "mimetype": "text/x-python",
   "name": "python",
   "nbconvert_exporter": "python",
   "pygments_lexer": "ipython3",
   "version": "3.9.7"
  }
 },
 "nbformat": 4,
 "nbformat_minor": 5
}
